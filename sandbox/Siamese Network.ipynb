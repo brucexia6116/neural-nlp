{
 "cells": [
  {
   "cell_type": "markdown",
   "metadata": {},
   "source": [
    "# Siamese Network\n",
    "\n",
    "Keras model which encodes an abstract and a summary and uses a contrastive loss to either map them close together or push them apart."
   ]
  },
  {
   "cell_type": "markdown",
   "metadata": {},
   "source": [
    "### Hyperparameters"
   ]
  },
  {
   "cell_type": "code",
   "execution_count": 74,
   "metadata": {
    "collapsed": true
   },
   "outputs": [],
   "source": [
    "text_len = abstract_len = summary_len = 5\n",
    "word_dim, vocab_size = 5, 10\n",
    "nb_filter, filter_len = 2, 1"
   ]
  },
  {
   "cell_type": "markdown",
   "metadata": {},
   "source": [
    "### Model Sharing"
   ]
  },
  {
   "cell_type": "code",
   "execution_count": 98,
   "metadata": {
    "collapsed": false
   },
   "outputs": [
    {
     "name": "stdout",
     "output_type": "stream",
     "text": [
      "____________________________________________________________________________________________________\n",
      "Layer (type)                     Output Shape          Param #     Connected to                     \n",
      "====================================================================================================\n",
      "input_36 (InputLayer)            (None, 5)             0                                            \n",
      "____________________________________________________________________________________________________\n",
      "input_37 (InputLayer)            (None, 5)             0                                            \n",
      "____________________________________________________________________________________________________\n",
      "model_17 (Model)                 (None, 2)             114         input_36[0][0]                   \n",
      "                                                                   input_37[0][0]                   \n",
      "____________________________________________________________________________________________________\n",
      "merge_14 (Merge)                 (None, 1)             0           model_17[1][0]                   \n",
      "                                                                   model_17[2][0]                   \n",
      "====================================================================================================\n",
      "Total params: 114\n",
      "____________________________________________________________________________________________________\n"
     ]
    }
   ],
   "source": [
    "from keras.layers import Input, Embedding, LSTM, merge\n",
    "from keras.models import Model\n",
    "from keras.layers.core import Activation\n",
    "\n",
    "# inputs\n",
    "text = Input(shape=[abstract_len], dtype='int32')\n",
    "embedded = Embedding(output_dim=word_dim, input_dim=vocab_size, input_length=text_len, mask_zero=True, weights=None)(text)\n",
    "vector = LSTM(output_dim=2)(embedded)\n",
    "embed_text = Model(input=text, output=vector)\n",
    "\n",
    "# define model\n",
    "abstract, summary = Input(shape=[text_len], dtype='int32'), Input(shape=[text_len], dtype='int32')\n",
    "abstract_vec, summary_vec = embed_text(abstract), embed_text(summary)\n",
    "score = merge(inputs=[abstract_vec, summary_vec], mode='dot', dot_axes=1) # won't work without `dot_axes=1` (!!)\n",
    "\n",
    "model = Model(input=[abstract, summary], output=score)\n",
    "model.compile(optimizer='adam', loss='binary_crossentropy', metrics=['accuracy'])\n",
    "\n",
    "model.summary()"
   ]
  },
  {
   "cell_type": "markdown",
   "metadata": {},
   "source": [
    "### Train Model"
   ]
  },
  {
   "cell_type": "code",
   "execution_count": 99,
   "metadata": {
    "collapsed": false,
    "scrolled": false
   },
   "outputs": [
    {
     "name": "stdout",
     "output_type": "stream",
     "text": [
      "Epoch 1/10\n",
      "2/2 [==============================] - 0s - loss: 1.1266e-04 - acc: 1.0000\n",
      "Epoch 2/10\n",
      "2/2 [==============================] - 0s - loss: 7.9638e-05 - acc: 1.0000\n",
      "Epoch 3/10\n",
      "2/2 [==============================] - 0s - loss: 5.4362e-05 - acc: 1.0000\n",
      "Epoch 4/10\n",
      "2/2 [==============================] - 0s - loss: 3.4691e-05 - acc: 1.0000\n",
      "Epoch 5/10\n",
      "2/2 [==============================] - 0s - loss: 1.8984e-05 - acc: 1.0000\n",
      "Epoch 6/10\n",
      "2/2 [==============================] - 0s - loss: 7.1824e-06 - acc: 1.0000\n",
      "Epoch 7/10\n",
      "2/2 [==============================] - 0s - loss: 1.1921e-07 - acc: 1.0000\n",
      "Epoch 8/10\n",
      "2/2 [==============================] - 0s - loss: 1.1921e-07 - acc: 1.0000\n",
      "Epoch 9/10\n",
      "2/2 [==============================] - 0s - loss: 1.1921e-07 - acc: 1.0000\n",
      "Epoch 10/10\n",
      "2/2 [==============================] - 0s - loss: 1.1921e-07 - acc: 1.0000\n"
     ]
    },
    {
     "data": {
      "text/plain": [
       "<keras.callbacks.History at 0x1481d3ed0>"
      ]
     },
     "execution_count": 99,
     "metadata": {},
     "output_type": "execute_result"
    }
   ],
   "source": [
    "from keras.utils.np_utils import to_categorical\n",
    "\n",
    "nb_train = 2\n",
    "\n",
    "X_abstract = np.array([np.random.choice(vocab_size, size=text_len) for _ in range(nb_train)])\n",
    "X_summary = np.array([np.random.choice(vocab_size, size=text_len) for _ in range(nb_train)])\n",
    "y = np.random.choice([0, 1], size=nb_train)\n",
    "\n",
    "model.fit([X_abstract, X_summary], y)"
   ]
  },
  {
   "cell_type": "markdown",
   "metadata": {},
   "source": [
    "Sanity check the dot operation..."
   ]
  },
  {
   "cell_type": "code",
   "execution_count": 101,
   "metadata": {
    "collapsed": false
   },
   "outputs": [
    {
     "data": {
      "text/plain": [
       "[array([[ 0.00185674, -0.00755589],\n",
       "        [ 0.00027848, -0.01449449]], dtype=float32),\n",
       " array([[ 0.00390792,  0.00459523],\n",
       "        [-0.00211801,  0.00029689]], dtype=float32),\n",
       " array([[ -2.74650884e-05],\n",
       "        [ -4.89312652e-06]], dtype=float32)]"
      ]
     },
     "execution_count": 101,
     "metadata": {},
     "output_type": "execute_result"
    }
   ],
   "source": [
    "import keras.backend as K\n",
    "\n",
    "f = K.function(inputs=model.inputs, outputs=model.layers[-1].input + [model.layers[-1].output])\n",
    "\n",
    "f([X_abstract, X_summary])"
   ]
  }
 ],
 "metadata": {
  "kernelspec": {
   "display_name": "Python 2",
   "language": "python",
   "name": "python2"
  },
  "language_info": {
   "codemirror_mode": {
    "name": "ipython",
    "version": 2
   },
   "file_extension": ".py",
   "mimetype": "text/x-python",
   "name": "python",
   "nbconvert_exporter": "python",
   "pygments_lexer": "ipython2",
   "version": "2.7.12"
  }
 },
 "nbformat": 4,
 "nbformat_minor": 0
}
