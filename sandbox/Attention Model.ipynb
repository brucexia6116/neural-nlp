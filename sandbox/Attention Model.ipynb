{
 "cells": [
  {
   "cell_type": "markdown",
   "metadata": {},
   "source": [
    "# Attention Model\n",
    "\n",
    "Compute attention mask post-hoc and sum up the vectors."
   ]
  },
  {
   "cell_type": "markdown",
   "metadata": {},
   "source": [
    "### Hyperparameters"
   ]
  },
  {
   "cell_type": "code",
   "execution_count": 64,
   "metadata": {
    "collapsed": true
   },
   "outputs": [],
   "source": [
    "max_textlen = 3\n",
    "word_dim, vocab_size = 5, 10\n",
    "hidden_dim, filter_len = 16, 1\n",
    "\n",
    "nb_class = 2"
   ]
  },
  {
   "cell_type": "markdown",
   "metadata": {},
   "source": [
    "Define a layer which sums along `axis=0`..."
   ]
  },
  {
   "cell_type": "code",
   "execution_count": 65,
   "metadata": {
    "collapsed": false
   },
   "outputs": [],
   "source": [
    "import keras.backend as K\n",
    "\n",
    "def sum_vectors(x):\n",
    "    \"\"\"Sums a batch of vectors\n",
    "    \n",
    "    Parameters\n",
    "    ----------\n",
    "    x : (nb_batch, max_textlen, nb_filter) tensor\n",
    "    \n",
    "    Sums `x` along `axis=1` and returns a (nb_batch, nb_filter) tensor.\n",
    "    \n",
    "    \"\"\"\n",
    "    return K.sum(x, axis=1)"
   ]
  },
  {
   "cell_type": "markdown",
   "metadata": {},
   "source": [
    "### Define Model"
   ]
  },
  {
   "cell_type": "code",
   "execution_count": 66,
   "metadata": {
    "collapsed": false
   },
   "outputs": [
    {
     "name": "stdout",
     "output_type": "stream",
     "text": [
      "____________________________________________________________________________________________________\n",
      "Layer (type)                     Output Shape          Param #     Connected to                     \n",
      "====================================================================================================\n",
      "input_6 (InputLayer)             (None, 3)             0                                            \n",
      "____________________________________________________________________________________________________\n",
      "embedding_6 (Embedding)          (None, 3, 5)          50          input_6[0][0]                    \n",
      "____________________________________________________________________________________________________\n",
      "activations (LSTM)               (None, 3, 16)         1408        embedding_6[0][0]                \n",
      "____________________________________________________________________________________________________\n",
      "timedistributed_6 (TimeDistribute(None, 3, 1)          17          activations[0][0]                \n",
      "____________________________________________________________________________________________________\n",
      "reshape_6 (Reshape)              (None, 3)             0           timedistributed_6[0][0]          \n",
      "____________________________________________________________________________________________________\n",
      "flat_mask (Activation)           (None, 3)             0           reshape_6[0][0]                  \n",
      "____________________________________________________________________________________________________\n",
      "repeatvector_6 (RepeatVector)    (None, 16, 3)         0           flat_mask[0][0]                  \n",
      "____________________________________________________________________________________________________\n",
      "block_mask (Permute)             (None, 3, 16)         0           repeatvector_6[0][0]             \n",
      "____________________________________________________________________________________________________\n",
      "dotted (Merge)                   (None, 3, 16)         0           activations[0][0]                \n",
      "                                                                   block_mask[0][0]                 \n",
      "____________________________________________________________________________________________________\n",
      "attended (Lambda)                (None, 16)            0           dotted[0][0]                     \n",
      "____________________________________________________________________________________________________\n",
      "dense_11 (Dense)                 (None, 2)             34          attended[0][0]                   \n",
      "====================================================================================================\n",
      "Total params: 1509\n",
      "____________________________________________________________________________________________________\n"
     ]
    },
    {
     "data": {
      "image/svg+xml": [
       "<svg height=\"775pt\" viewBox=\"0.00 0.00 271.61 775.00\" width=\"272pt\" xmlns=\"http://www.w3.org/2000/svg\" xmlns:xlink=\"http://www.w3.org/1999/xlink\">\n",
       "<g class=\"graph\" id=\"graph0\" transform=\"scale(1 1) rotate(0) translate(4 771)\">\n",
       "<title>G</title>\n",
       "<polygon fill=\"white\" points=\"-4,4 -4,-771 267.609,-771 267.609,4 -4,4\" stroke=\"none\"/>\n",
       "<!-- 4692878352 -->\n",
       "<g class=\"node\" id=\"node1\"><title>4692878352</title>\n",
       "<polygon fill=\"none\" points=\"111.923,-730.5 111.923,-766.5 245.72,-766.5 245.72,-730.5 111.923,-730.5\" stroke=\"black\"/>\n",
       "<text font-family=\"Times,serif\" font-size=\"14.00\" text-anchor=\"middle\" x=\"178.821\" y=\"-744.3\">input_6 (InputLayer)</text>\n",
       "</g>\n",
       "<!-- 4692878480 -->\n",
       "<g class=\"node\" id=\"node2\"><title>4692878480</title>\n",
       "<polygon fill=\"none\" points=\"94.0332,-657.5 94.0332,-693.5 263.609,-693.5 263.609,-657.5 94.0332,-657.5\" stroke=\"black\"/>\n",
       "<text font-family=\"Times,serif\" font-size=\"14.00\" text-anchor=\"middle\" x=\"178.821\" y=\"-671.3\">embedding_6 (Embedding)</text>\n",
       "</g>\n",
       "<!-- 4692878352&#45;&gt;4692878480 -->\n",
       "<g class=\"edge\" id=\"edge1\"><title>4692878352-&gt;4692878480</title>\n",
       "<path d=\"M178.821,-730.313C178.821,-722.289 178.821,-712.547 178.821,-703.569\" fill=\"none\" stroke=\"black\"/>\n",
       "<polygon fill=\"black\" points=\"182.321,-703.529 178.821,-693.529 175.321,-703.529 182.321,-703.529\" stroke=\"black\"/>\n",
       "</g>\n",
       "<!-- 4692878224 -->\n",
       "<g class=\"node\" id=\"node3\"><title>4692878224</title>\n",
       "<polygon fill=\"none\" points=\"115.416,-584.5 115.416,-620.5 242.227,-620.5 242.227,-584.5 115.416,-584.5\" stroke=\"black\"/>\n",
       "<text font-family=\"Times,serif\" font-size=\"14.00\" text-anchor=\"middle\" x=\"178.821\" y=\"-598.3\">activations (LSTM)</text>\n",
       "</g>\n",
       "<!-- 4692878480&#45;&gt;4692878224 -->\n",
       "<g class=\"edge\" id=\"edge2\"><title>4692878480-&gt;4692878224</title>\n",
       "<path d=\"M178.821,-657.313C178.821,-649.289 178.821,-639.547 178.821,-630.569\" fill=\"none\" stroke=\"black\"/>\n",
       "<polygon fill=\"black\" points=\"182.321,-630.529 178.821,-620.529 175.321,-630.529 182.321,-630.529\" stroke=\"black\"/>\n",
       "</g>\n",
       "<!-- 4695936016 -->\n",
       "<g class=\"node\" id=\"node4\"><title>4695936016</title>\n",
       "<polygon fill=\"none\" points=\"0,-511.5 0,-547.5 219.643,-547.5 219.643,-511.5 0,-511.5\" stroke=\"black\"/>\n",
       "<text font-family=\"Times,serif\" font-size=\"14.00\" text-anchor=\"middle\" x=\"109.821\" y=\"-525.3\">timedistributed_6 (TimeDistributed)</text>\n",
       "</g>\n",
       "<!-- 4692878224&#45;&gt;4695936016 -->\n",
       "<g class=\"edge\" id=\"edge3\"><title>4692878224-&gt;4695936016</title>\n",
       "<path d=\"M162.118,-584.313C153.558,-575.505 142.985,-564.625 133.591,-554.958\" fill=\"none\" stroke=\"black\"/>\n",
       "<polygon fill=\"black\" points=\"135.85,-552.261 126.37,-547.529 130.83,-557.14 135.85,-552.261\" stroke=\"black\"/>\n",
       "</g>\n",
       "<!-- 4695933136 -->\n",
       "<g class=\"node\" id=\"node9\"><title>4695933136</title>\n",
       "<polygon fill=\"none\" points=\"141.767,-146.5 141.767,-182.5 241.876,-182.5 241.876,-146.5 141.767,-146.5\" stroke=\"black\"/>\n",
       "<text font-family=\"Times,serif\" font-size=\"14.00\" text-anchor=\"middle\" x=\"191.821\" y=\"-160.3\">dotted (Merge)</text>\n",
       "</g>\n",
       "<!-- 4692878224&#45;&gt;4695933136 -->\n",
       "<g class=\"edge\" id=\"edge8\"><title>4692878224-&gt;4695933136</title>\n",
       "<path d=\"M199.447,-584.419C209.786,-574.768 221.611,-561.875 228.821,-548 247.773,-511.531 247.821,-498.599 247.821,-457.5 247.821,-457.5 247.821,-457.5 247.821,-309.5 247.821,-265.88 225.225,-219.571 208.739,-191.591\" fill=\"none\" stroke=\"black\"/>\n",
       "<polygon fill=\"black\" points=\"211.605,-189.568 203.425,-182.835 205.622,-193.2 211.605,-189.568\" stroke=\"black\"/>\n",
       "</g>\n",
       "<!-- 4695935888 -->\n",
       "<g class=\"node\" id=\"node5\"><title>4695935888</title>\n",
       "<polygon fill=\"none\" points=\"45.3193,-438.5 45.3193,-474.5 178.323,-474.5 178.323,-438.5 45.3193,-438.5\" stroke=\"black\"/>\n",
       "<text font-family=\"Times,serif\" font-size=\"14.00\" text-anchor=\"middle\" x=\"111.821\" y=\"-452.3\">reshape_6 (Reshape)</text>\n",
       "</g>\n",
       "<!-- 4695936016&#45;&gt;4695935888 -->\n",
       "<g class=\"edge\" id=\"edge4\"><title>4695936016-&gt;4695935888</title>\n",
       "<path d=\"M110.305,-511.313C110.531,-503.289 110.806,-493.547 111.059,-484.569\" fill=\"none\" stroke=\"black\"/>\n",
       "<polygon fill=\"black\" points=\"114.559,-484.623 111.342,-474.529 107.561,-484.426 114.559,-484.623\" stroke=\"black\"/>\n",
       "</g>\n",
       "<!-- 4695979920 -->\n",
       "<g class=\"node\" id=\"node6\"><title>4695979920</title>\n",
       "<polygon fill=\"none\" points=\"48.6401,-365.5 48.6401,-401.5 191.002,-401.5 191.002,-365.5 48.6401,-365.5\" stroke=\"black\"/>\n",
       "<text font-family=\"Times,serif\" font-size=\"14.00\" text-anchor=\"middle\" x=\"119.821\" y=\"-379.3\">flat_mask (Activation)</text>\n",
       "</g>\n",
       "<!-- 4695935888&#45;&gt;4695979920 -->\n",
       "<g class=\"edge\" id=\"edge5\"><title>4695935888-&gt;4695979920</title>\n",
       "<path d=\"M113.758,-438.313C114.662,-430.289 115.76,-420.547 116.771,-411.569\" fill=\"none\" stroke=\"black\"/>\n",
       "<polygon fill=\"black\" points=\"120.261,-411.858 117.903,-401.529 113.305,-411.074 120.261,-411.858\" stroke=\"black\"/>\n",
       "</g>\n",
       "<!-- 4695980560 -->\n",
       "<g class=\"node\" id=\"node7\"><title>4695980560</title>\n",
       "<polygon fill=\"none\" points=\"30.1191,-292.5 30.1191,-328.5 217.523,-328.5 217.523,-292.5 30.1191,-292.5\" stroke=\"black\"/>\n",
       "<text font-family=\"Times,serif\" font-size=\"14.00\" text-anchor=\"middle\" x=\"123.821\" y=\"-306.3\">repeatvector_6 (RepeatVector)</text>\n",
       "</g>\n",
       "<!-- 4695979920&#45;&gt;4695980560 -->\n",
       "<g class=\"edge\" id=\"edge6\"><title>4695979920-&gt;4695980560</title>\n",
       "<path d=\"M120.79,-365.313C121.242,-357.289 121.79,-347.547 122.296,-338.569\" fill=\"none\" stroke=\"black\"/>\n",
       "<polygon fill=\"black\" points=\"125.794,-338.71 122.862,-328.529 118.805,-338.316 125.794,-338.71\" stroke=\"black\"/>\n",
       "</g>\n",
       "<!-- 4695980944 -->\n",
       "<g class=\"node\" id=\"node8\"><title>4695980944</title>\n",
       "<polygon fill=\"none\" points=\"64.2539,-219.5 64.2539,-255.5 207.389,-255.5 207.389,-219.5 64.2539,-219.5\" stroke=\"black\"/>\n",
       "<text font-family=\"Times,serif\" font-size=\"14.00\" text-anchor=\"middle\" x=\"135.821\" y=\"-233.3\">block_mask (Permute)</text>\n",
       "</g>\n",
       "<!-- 4695980560&#45;&gt;4695980944 -->\n",
       "<g class=\"edge\" id=\"edge7\"><title>4695980560-&gt;4695980944</title>\n",
       "<path d=\"M126.726,-292.313C128.082,-284.289 129.729,-274.547 131.246,-265.569\" fill=\"none\" stroke=\"black\"/>\n",
       "<polygon fill=\"black\" points=\"134.728,-265.972 132.943,-255.529 127.826,-264.806 134.728,-265.972\" stroke=\"black\"/>\n",
       "</g>\n",
       "<!-- 4695980944&#45;&gt;4695933136 -->\n",
       "<g class=\"edge\" id=\"edge9\"><title>4695980944-&gt;4695933136</title>\n",
       "<path d=\"M149.377,-219.313C156.187,-210.679 164.567,-200.055 172.076,-190.534\" fill=\"none\" stroke=\"black\"/>\n",
       "<polygon fill=\"black\" points=\"174.945,-192.548 178.39,-182.529 169.449,-188.213 174.945,-192.548\" stroke=\"black\"/>\n",
       "</g>\n",
       "<!-- 4695891600 -->\n",
       "<g class=\"node\" id=\"node10\"><title>4695891600</title>\n",
       "<polygon fill=\"none\" points=\"130.764,-73.5 130.764,-109.5 252.878,-109.5 252.878,-73.5 130.764,-73.5\" stroke=\"black\"/>\n",
       "<text font-family=\"Times,serif\" font-size=\"14.00\" text-anchor=\"middle\" x=\"191.821\" y=\"-87.3\">attended (Lambda)</text>\n",
       "</g>\n",
       "<!-- 4695933136&#45;&gt;4695891600 -->\n",
       "<g class=\"edge\" id=\"edge10\"><title>4695933136-&gt;4695891600</title>\n",
       "<path d=\"M191.821,-146.313C191.821,-138.289 191.821,-128.547 191.821,-119.569\" fill=\"none\" stroke=\"black\"/>\n",
       "<polygon fill=\"black\" points=\"195.321,-119.529 191.821,-109.529 188.321,-119.529 195.321,-119.529\" stroke=\"black\"/>\n",
       "</g>\n",
       "<!-- 4695891152 -->\n",
       "<g class=\"node\" id=\"node11\"><title>4695891152</title>\n",
       "<polygon fill=\"none\" points=\"133.734,-0.5 133.734,-36.5 249.908,-36.5 249.908,-0.5 133.734,-0.5\" stroke=\"black\"/>\n",
       "<text font-family=\"Times,serif\" font-size=\"14.00\" text-anchor=\"middle\" x=\"191.821\" y=\"-14.3\">dense_11 (Dense)</text>\n",
       "</g>\n",
       "<!-- 4695891600&#45;&gt;4695891152 -->\n",
       "<g class=\"edge\" id=\"edge11\"><title>4695891600-&gt;4695891152</title>\n",
       "<path d=\"M191.821,-73.3129C191.821,-65.2895 191.821,-55.5475 191.821,-46.5691\" fill=\"none\" stroke=\"black\"/>\n",
       "<polygon fill=\"black\" points=\"195.321,-46.5288 191.821,-36.5288 188.321,-46.5289 195.321,-46.5288\" stroke=\"black\"/>\n",
       "</g>\n",
       "</g>\n",
       "</svg>"
      ],
      "text/plain": [
       "<IPython.core.display.SVG object>"
      ]
     },
     "execution_count": 66,
     "metadata": {},
     "output_type": "execute_result"
    }
   ],
   "source": [
    "from keras.layers import Input, Embedding, Dense, LSTM, merge, Activation, Permute, Reshape, Lambda\n",
    "from keras.layers import Convolution1D, MaxPooling1D, Flatten, TimeDistributed, RepeatVector\n",
    "from keras.layers.convolutional import AveragePooling1D\n",
    "from keras.models import Model\n",
    "\n",
    "input = Input(shape=[max_textlen], dtype='int32')\n",
    "embedded = Embedding(output_dim=word_dim, input_dim=vocab_size, input_length=max_textlen)(input)\n",
    "activations = LSTM(hidden_dim, return_sequences=True, name='activations')(embedded)\n",
    "\n",
    "# attention mask\n",
    "mask = TimeDistributed(Dense(1))(activations)\n",
    "mask = Reshape([max_textlen])(mask)\n",
    "mask = Activation('softmax', name='flat_mask')(mask)\n",
    "mask = RepeatVector(16)(mask)\n",
    "mask = Permute([2, 1], name='block_mask')(mask)\n",
    "\n",
    "# apply mask\n",
    "activations = merge([activations, mask], mode='mul', name='dotted')\n",
    "collapsed = Lambda(function=sum_vectors, output_shape=[hidden_dim], name='attended')(activations)\n",
    "\n",
    "probas = Dense(nb_class, activation='softmax')(collapsed)\n",
    "\n",
    "model = Model(input=input, output=probas)\n",
    "model.compile(optimizer='adam', loss='categorical_crossentropy', metrics=['accuracy'])\n",
    "\n",
    "model.summary()\n",
    "\n",
    "from IPython.display import SVG\n",
    "from keras.utils.visualize_util import model_to_dot\n",
    "\n",
    "SVG(model_to_dot(model).create(prog='dot', format='svg'))"
   ]
  },
  {
   "cell_type": "markdown",
   "metadata": {},
   "source": [
    "### Train Model"
   ]
  },
  {
   "cell_type": "code",
   "execution_count": 67,
   "metadata": {
    "collapsed": false,
    "scrolled": false
   },
   "outputs": [
    {
     "name": "stdout",
     "output_type": "stream",
     "text": [
      "Epoch 1/10\n",
      "2/2 [==============================] - 0s - loss: 0.6909 - acc: 0.5000\n",
      "Epoch 2/10\n",
      "2/2 [==============================] - 0s - loss: 0.6903 - acc: 1.0000\n",
      "Epoch 3/10\n",
      "2/2 [==============================] - 0s - loss: 0.6897 - acc: 1.0000\n",
      "Epoch 4/10\n",
      "2/2 [==============================] - 0s - loss: 0.6891 - acc: 1.0000\n",
      "Epoch 5/10\n",
      "2/2 [==============================] - 0s - loss: 0.6885 - acc: 1.0000\n",
      "Epoch 6/10\n",
      "2/2 [==============================] - 0s - loss: 0.6879 - acc: 1.0000\n",
      "Epoch 7/10\n",
      "2/2 [==============================] - 0s - loss: 0.6872 - acc: 1.0000\n",
      "Epoch 8/10\n",
      "2/2 [==============================] - 0s - loss: 0.6865 - acc: 1.0000\n",
      "Epoch 9/10\n",
      "2/2 [==============================] - 0s - loss: 0.6859 - acc: 1.0000\n",
      "Epoch 10/10\n",
      "2/2 [==============================] - 0s - loss: 0.6851 - acc: 1.0000\n"
     ]
    },
    {
     "data": {
      "text/plain": [
       "<keras.callbacks.History at 0x1157b8fd0>"
      ]
     },
     "execution_count": 67,
     "metadata": {},
     "output_type": "execute_result"
    }
   ],
   "source": [
    "from keras.utils.np_utils import to_categorical\n",
    "\n",
    "X, y = np.array([[1, 2, 4], [0, 3, 4]]), to_categorical([1, 0])\n",
    "\n",
    "model.fit(X, y)"
   ]
  },
  {
   "cell_type": "markdown",
   "metadata": {},
   "source": [
    "### Test Layers"
   ]
  },
  {
   "cell_type": "code",
   "execution_count": 68,
   "metadata": {
    "collapsed": false
   },
   "outputs": [
    {
     "data": {
      "text/plain": [
       "array([ True,  True,  True,  True,  True,  True,  True,  True,  True,\n",
       "        True,  True,  True,  True, False,  True, False], dtype=bool)"
      ]
     },
     "execution_count": 68,
     "metadata": {},
     "output_type": "execute_result"
    }
   ],
   "source": [
    "layer_names = ['activations', 'flat_mask', 'block_mask', 'dotted', 'attended']\n",
    "outputs = [model.get_layer(layer_name).output for layer_name in layer_names]\n",
    "\n",
    "f = K.function(model.inputs, outputs)\n",
    "\n",
    "activations, flat_mask, block_mask, dotted, attended = [output[0] for output in f([X[:1]])]\n",
    "\n",
    "assert np.all(activations * block_mask == dotted)\n",
    "\n",
    "dotted.sum(axis=0) == attended"
   ]
  },
  {
   "cell_type": "code",
   "execution_count": 69,
   "metadata": {
    "collapsed": false
   },
   "outputs": [
    {
     "data": {
      "text/plain": [
       "array([-0.00892711,  0.00826923, -0.01406729, -0.00389274,  0.00661503,\n",
       "        0.00420704, -0.0016395 , -0.00740139, -0.00675155, -0.00387378,\n",
       "       -0.00329243, -0.00311931,  0.0014338 , -0.00325761,  0.01508329,\n",
       "       -0.00647725], dtype=float32)"
      ]
     },
     "execution_count": 69,
     "metadata": {},
     "output_type": "execute_result"
    }
   ],
   "source": [
    "dotted.sum(axis=0)"
   ]
  },
  {
   "cell_type": "code",
   "execution_count": 70,
   "metadata": {
    "collapsed": false
   },
   "outputs": [
    {
     "data": {
      "text/plain": [
       "array([-0.00892711,  0.00826923, -0.01406729, -0.00389274,  0.00661503,\n",
       "        0.00420704, -0.0016395 , -0.00740139, -0.00675155, -0.00387378,\n",
       "       -0.00329243, -0.00311931,  0.0014338 , -0.00325761,  0.01508329,\n",
       "       -0.00647725], dtype=float32)"
      ]
     },
     "execution_count": 70,
     "metadata": {},
     "output_type": "execute_result"
    }
   ],
   "source": [
    "attended"
   ]
  },
  {
   "cell_type": "markdown",
   "metadata": {},
   "source": [
    "Looks like it works with the exception of some theano/numpy precision difference..."
   ]
  }
 ],
 "metadata": {
  "kernelspec": {
   "display_name": "Python 2",
   "language": "python",
   "name": "python2"
  },
  "language_info": {
   "codemirror_mode": {
    "name": "ipython",
    "version": 2
   },
   "file_extension": ".py",
   "mimetype": "text/x-python",
   "name": "python",
   "nbconvert_exporter": "python",
   "pygments_lexer": "ipython2",
   "version": "2.7.12"
  }
 },
 "nbformat": 4,
 "nbformat_minor": 0
}
