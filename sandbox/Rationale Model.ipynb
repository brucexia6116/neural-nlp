{
 "cells": [
  {
   "cell_type": "markdown",
   "metadata": {},
   "source": [
    "# Rationale Model"
   ]
  },
  {
   "cell_type": "markdown",
   "metadata": {},
   "source": [
    "### Hyperparameters"
   ]
  },
  {
   "cell_type": "code",
   "execution_count": 51,
   "metadata": {
    "collapsed": true
   },
   "outputs": [],
   "source": [
    "max_sentlen, max_doclen = 3, 2\n",
    "word_dim, vocab_size = 5, 10\n",
    "nb_filter, filter_len = 2, 1\n",
    "\n",
    "nb_class = 2"
   ]
  },
  {
   "cell_type": "markdown",
   "metadata": {},
   "source": [
    "### Define Model"
   ]
  },
  {
   "cell_type": "code",
   "execution_count": 52,
   "metadata": {
    "collapsed": false
   },
   "outputs": [
    {
     "name": "stdout",
     "output_type": "stream",
     "text": [
      "____________________________________________________________________________________________________\n",
      "Layer (type)                     Output Shape          Param #     Connected to                     \n",
      "====================================================================================================\n",
      "input_35 (InputLayer)            (None, 6)             0                                            \n",
      "____________________________________________________________________________________________________\n",
      "embedding_35 (Embedding)         (None, 6, 5)          50          input_35[0][0]                   \n",
      "____________________________________________________________________________________________________\n",
      "reshape_44 (Reshape)             (None, 1, 3, 10)      0           embedding_35[0][0]               \n",
      "____________________________________________________________________________________________________\n",
      "convolution2d_28 (Convolution2D) (None, 2, 3, 2)       12          reshape_44[0][0]                 \n",
      "____________________________________________________________________________________________________\n",
      "maxpooling2d_18 (MaxPooling2D)   (None, 2, 1, 2)       0           convolution2d_28[0][0]           \n",
      "____________________________________________________________________________________________________\n",
      "permute_14 (Permute)             (None, 1, 2, 2)       0           maxpooling2d_18[0][0]            \n",
      "____________________________________________________________________________________________________\n",
      "reshape_45 (Reshape)             (None, 2, 2)          0           permute_14[0][0]                 \n",
      "____________________________________________________________________________________________________\n",
      "lstm_5 (LSTM)                    (None, 2)             40          reshape_45[0][0]                 \n",
      "____________________________________________________________________________________________________\n",
      "dense_5 (Dense)                  (None, 2)             6           lstm_5[0][0]                     \n",
      "====================================================================================================\n",
      "Total params: 108\n",
      "____________________________________________________________________________________________________\n"
     ]
    }
   ],
   "source": [
    "from keras.layers import Input, Embedding, Dense, Reshape, Permute\n",
    "from keras.layers import Convolution2D, MaxPooling2D, Flatten, LSTM\n",
    "from keras.models import Model\n",
    "\n",
    "input = Input(shape=[max_sentlen*max_doclen], dtype='int32')\n",
    "\n",
    "embedded = Embedding(output_dim=word_dim, input_dim=vocab_size, input_length=max_sentlen*max_doclen)(input)\n",
    "reshaped = Reshape([1, max_sentlen, word_dim*max_doclen])(embedded)\n",
    "convolved = Convolution2D(nb_filter, nb_row=filter_len, nb_col=word_dim, subsample=[1, word_dim])(reshaped)\n",
    "pooled = MaxPooling2D(pool_size=[max_sentlen-filter_len+1, 1])(convolved)\n",
    "permuted = Permute([2, 3, 1])(pooled)\n",
    "activations = Reshape([max_doclen, nb_filter])(permuted)\n",
    "hidden = LSTM(output_dim=nb_filter)(activations)\n",
    "probs = Dense(output_dim=nb_class, activation='softmax')(hidden)\n",
    "\n",
    "model = Model(input=input, output=probs)\n",
    "model.compile(optimizer='adam', loss='categorical_crossentropy', metrics=['accuracy'])\n",
    "\n",
    "model.summary()"
   ]
  },
  {
   "cell_type": "markdown",
   "metadata": {},
   "source": [
    "### Train Model"
   ]
  },
  {
   "cell_type": "code",
   "execution_count": 55,
   "metadata": {
    "collapsed": false,
    "scrolled": false
   },
   "outputs": [
    {
     "name": "stdout",
     "output_type": "stream",
     "text": [
      "Epoch 1/10\n",
      "2/2 [==============================] - 0s - loss: 0.6932 - acc: 0.5000\n",
      "Epoch 2/10\n",
      "2/2 [==============================] - 0s - loss: 0.6931 - acc: 0.5000\n",
      "Epoch 3/10\n",
      "2/2 [==============================] - 0s - loss: 0.6930 - acc: 0.5000\n",
      "Epoch 4/10\n",
      "2/2 [==============================] - 0s - loss: 0.6930 - acc: 0.5000\n",
      "Epoch 5/10\n",
      "2/2 [==============================] - 0s - loss: 0.6929 - acc: 0.5000\n",
      "Epoch 6/10\n",
      "2/2 [==============================] - 0s - loss: 0.6929 - acc: 0.5000\n",
      "Epoch 7/10\n",
      "2/2 [==============================] - 0s - loss: 0.6928 - acc: 0.5000\n",
      "Epoch 8/10\n",
      "2/2 [==============================] - 0s - loss: 0.6927 - acc: 0.5000\n",
      "Epoch 9/10\n",
      "2/2 [==============================] - 0s - loss: 0.6927 - acc: 0.5000\n",
      "Epoch 10/10\n",
      "2/2 [==============================] - 0s - loss: 0.6926 - acc: 1.0000\n"
     ]
    },
    {
     "data": {
      "text/plain": [
       "<keras.callbacks.History at 0x114fd0110>"
      ]
     },
     "execution_count": 55,
     "metadata": {},
     "output_type": "execute_result"
    }
   ],
   "source": [
    "from keras.utils.np_utils import to_categorical\n",
    "\n",
    "nb_train = 2\n",
    "\n",
    "X = np.zeros([nb_train, max_sentlen*max_doclen])\n",
    "X[0], X[1] = np.array([1, 2, 1] + [0, 1, 0]), np.array([0, 1, 0] + [1, 2, 1])\n",
    "\n",
    "y = to_categorical([1, 0])\n",
    "\n",
    "model.fit(X, y)"
   ]
  }
 ],
 "metadata": {
  "kernelspec": {
   "display_name": "Python 2",
   "language": "python",
   "name": "python2"
  },
  "language_info": {
   "codemirror_mode": {
    "name": "ipython",
    "version": 2
   },
   "file_extension": ".py",
   "mimetype": "text/x-python",
   "name": "python",
   "nbconvert_exporter": "python",
   "pygments_lexer": "ipython2",
   "version": "2.7.12"
  }
 },
 "nbformat": 4,
 "nbformat_minor": 0
}
