{
 "cells": [
  {
   "cell_type": "markdown",
   "metadata": {},
   "source": [
    "# Rationale Model"
   ]
  },
  {
   "cell_type": "markdown",
   "metadata": {},
   "source": [
    "### Hyperparameters"
   ]
  },
  {
   "cell_type": "code",
   "execution_count": 25,
   "metadata": {
    "collapsed": true
   },
   "outputs": [],
   "source": [
    "max_sentlen, max_doclen = 5, 3\n",
    "word_dim, vocab_size = 5, 10\n",
    "nb_filter, filter_len = 2, 1\n",
    "\n",
    "nb_class = 2"
   ]
  },
  {
   "cell_type": "markdown",
   "metadata": {},
   "source": [
    "### Define Model"
   ]
  },
  {
   "cell_type": "code",
   "execution_count": 48,
   "metadata": {
    "collapsed": false
   },
   "outputs": [
    {
     "name": "stdout",
     "output_type": "stream",
     "text": [
      "____________________________________________________________________________________________________\n",
      "Layer (type)                     Output Shape          Param #     Connected to                     \n",
      "====================================================================================================\n",
      "input_32 (InputLayer)            (None, 15)            0                                            \n",
      "____________________________________________________________________________________________________\n",
      "embedding_32 (Embedding)         (None, 15, 5)         50          input_32[0][0]                   \n",
      "____________________________________________________________________________________________________\n",
      "reshape_38 (Reshape)             (None, 1, 5, 15)      0           embedding_32[0][0]               \n",
      "____________________________________________________________________________________________________\n",
      "convolution2d_25 (Convolution2D) (None, 2, 5, 3)       12          reshape_38[0][0]                 \n",
      "____________________________________________________________________________________________________\n",
      "maxpooling2d_15 (MaxPooling2D)   (None, 2, 1, 3)       0           convolution2d_25[0][0]           \n",
      "____________________________________________________________________________________________________\n",
      "permute_11 (Permute)             (None, 1, 3, 2)       0           maxpooling2d_15[0][0]            \n",
      "____________________________________________________________________________________________________\n",
      "reshape_39 (Reshape)             (None, 3, 2)          0           permute_11[0][0]                 \n",
      "____________________________________________________________________________________________________\n",
      "lstm_2 (LSTM)                    (None, 2)             40          reshape_39[0][0]                 \n",
      "____________________________________________________________________________________________________\n",
      "dense_2 (Dense)                  (None, 2)             6           lstm_2[0][0]                     \n",
      "====================================================================================================\n",
      "Total params: 108\n",
      "____________________________________________________________________________________________________\n"
     ]
    }
   ],
   "source": [
    "from keras.layers import Input, Embedding, Dense, Reshape, Permute\n",
    "from keras.layers import Convolution2D, MaxPooling2D, Flatten, LSTM\n",
    "from keras.models import Model\n",
    "\n",
    "input = Input(shape=[max_sentlen*max_doclen], dtype='int32')\n",
    "\n",
    "embedded = Embedding(output_dim=word_dim, input_dim=vocab_size, input_length=max_sentlen*max_doclen)(input)\n",
    "reshaped = Reshape([1, max_sentlen, word_dim*max_doclen])(embedded)\n",
    "convolved = Convolution2D(nb_filter, nb_row=filter_len, nb_col=word_dim, subsample=[1, word_dim])(reshaped)\n",
    "pooled = MaxPooling2D(pool_size=[max_sentlen-filter_len+1, 1])(convolved)\n",
    "permuted = Permute([2, 3, 1])(pooled)\n",
    "activations = Reshape([max_doclen, nb_filter])(permuted)\n",
    "hidden = LSTM(output_dim=nb_filter)(activations)\n",
    "probs = Dense(output_dim=nb_class, activation='softmax')(hidden)\n",
    "\n",
    "model = Model(input=input, output=probs)\n",
    "model.summary()"
   ]
  },
  {
   "cell_type": "markdown",
   "metadata": {},
   "source": [
    "### Train Model"
   ]
  },
  {
   "cell_type": "code",
   "execution_count": 17,
   "metadata": {
    "collapsed": false,
    "scrolled": false
   },
   "outputs": [
    {
     "name": "stdout",
     "output_type": "stream",
     "text": [
      "Epoch 1/10\n",
      "2/2 [==============================] - 0s - loss: 0.6947 - acc: 0.0000e+00\n",
      "Epoch 2/10\n",
      "2/2 [==============================] - 0s - loss: 0.6943 - acc: 0.0000e+00\n",
      "Epoch 3/10\n",
      "2/2 [==============================] - 0s - loss: 0.6939 - acc: 0.5000\n",
      "Epoch 4/10\n",
      "2/2 [==============================] - 0s - loss: 0.6935 - acc: 0.5000\n",
      "Epoch 5/10\n",
      "2/2 [==============================] - 0s - loss: 0.6931 - acc: 0.5000\n",
      "Epoch 6/10\n",
      "2/2 [==============================] - 0s - loss: 0.6930 - acc: 0.5000\n",
      "Epoch 7/10\n",
      "2/2 [==============================] - 0s - loss: 0.6931 - acc: 0.5000\n",
      "Epoch 8/10\n",
      "2/2 [==============================] - 0s - loss: 0.6929 - acc: 0.5000\n",
      "Epoch 9/10\n",
      "2/2 [==============================] - 0s - loss: 0.6928 - acc: 0.5000\n",
      "Epoch 10/10\n",
      "2/2 [==============================] - 0s - loss: 0.6928 - acc: 0.5000\n"
     ]
    },
    {
     "data": {
      "text/plain": [
       "<keras.callbacks.History at 0x10eb86ad0>"
      ]
     },
     "execution_count": 17,
     "metadata": {},
     "output_type": "execute_result"
    }
   ],
   "source": [
    "from keras.utils.np_utils import to_categorical\n",
    "\n",
    "X, y = np.array([[1, 2, 4], [0, 3, 4]]), to_categorical([1, 0])\n",
    "\n",
    "model.fit(X, y)"
   ]
  }
 ],
 "metadata": {
  "kernelspec": {
   "display_name": "Python 2",
   "language": "python",
   "name": "python2"
  },
  "language_info": {
   "codemirror_mode": {
    "name": "ipython",
    "version": 2
   },
   "file_extension": ".py",
   "mimetype": "text/x-python",
   "name": "python",
   "nbconvert_exporter": "python",
   "pygments_lexer": "ipython2",
   "version": "2.7.12"
  }
 },
 "nbformat": 4,
 "nbformat_minor": 0
}
