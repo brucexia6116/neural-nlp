{
 "cells": [
  {
   "cell_type": "markdown",
   "metadata": {},
   "source": [
    "# Rationale Model"
   ]
  },
  {
   "cell_type": "markdown",
   "metadata": {},
   "source": [
    "### Hyperparameters"
   ]
  },
  {
   "cell_type": "code",
   "execution_count": 5,
   "metadata": {
    "collapsed": true
   },
   "outputs": [],
   "source": [
    "max_sentlen, max_doclen = 3, 2\n",
    "word_dim, vocab_size = 5, 10\n",
    "nb_filter, filter_len = 16, 1\n",
    "\n",
    "nb_class = 2"
   ]
  },
  {
   "cell_type": "markdown",
   "metadata": {},
   "source": [
    "### Define Model"
   ]
  },
  {
   "cell_type": "code",
   "execution_count": 12,
   "metadata": {
    "collapsed": false
   },
   "outputs": [
    {
     "name": "stdout",
     "output_type": "stream",
     "text": [
      "____________________________________________________________________________________________________\n",
      "Layer (type)                     Output Shape          Param #     Connected to                     \n",
      "====================================================================================================\n",
      "input_3 (InputLayer)             (None, 6)             0                                            \n",
      "____________________________________________________________________________________________________\n",
      "embedding_3 (Embedding)          (None, 6, 5)          50          input_3[0][0]                    \n",
      "____________________________________________________________________________________________________\n",
      "reshape_7 (Reshape)              (None, 1, 3, 10)      0           embedding_3[0][0]                \n",
      "____________________________________________________________________________________________________\n",
      "convolution2d_3 (Convolution2D)  (None, 16, 3, 2)      96          reshape_7[0][0]                  \n",
      "____________________________________________________________________________________________________\n",
      "maxpooling2d_3 (MaxPooling2D)    (None, 16, 1, 2)      0           convolution2d_3[0][0]            \n",
      "____________________________________________________________________________________________________\n",
      "permute_3 (Permute)              (None, 1, 2, 16)      0           maxpooling2d_3[0][0]             \n",
      "____________________________________________________________________________________________________\n",
      "reshape_8 (Reshape)              (None, 2, 16)         0           permute_3[0][0]                  \n",
      "____________________________________________________________________________________________________\n",
      "lstm_3 (LSTM)                    (None, 2, 16)         2112        reshape_8[0][0]                  \n",
      "____________________________________________________________________________________________________\n",
      "averagepooling1d_5 (AveragePoolin(None, 1, 16)         0           lstm_3[0][0]                     \n",
      "____________________________________________________________________________________________________\n",
      "reshape_9 (Reshape)              (None, 16)            0           averagepooling1d_5[0][0]         \n",
      "____________________________________________________________________________________________________\n",
      "dropout_3 (Dropout)              (None, 16)            0           reshape_9[0][0]                  \n",
      "____________________________________________________________________________________________________\n",
      "doc_probs (Dense)                (None, 2)             34          dropout_3[0][0]                  \n",
      "====================================================================================================\n",
      "Total params: 2292\n",
      "____________________________________________________________________________________________________\n"
     ]
    }
   ],
   "source": [
    "from keras.layers import Input, Embedding, Dense, Reshape, Permute, Dropout\n",
    "from keras.layers import Convolution2D, MaxPooling2D, Flatten, LSTM, AveragePooling1D\n",
    "from keras.models import Model\n",
    "from keras.layers import TimeDistributed\n",
    "\n",
    "input = Input(shape=[max_sentlen*max_doclen], dtype='int32')\n",
    "\n",
    "embedded = Embedding(output_dim=word_dim, input_dim=vocab_size, input_length=max_sentlen*max_doclen)(input)\n",
    "reshaped = Reshape([1, max_sentlen, word_dim*max_doclen])(embedded)\n",
    "convolved = Convolution2D(nb_filter, nb_row=filter_len, nb_col=word_dim, subsample=[1, word_dim])(reshaped)\n",
    "pooled = MaxPooling2D(pool_size=[max_sentlen-filter_len+1, 1])(convolved)\n",
    "permuted = Permute([2, 3, 1])(pooled)\n",
    "activations = Reshape([max_doclen, nb_filter])(permuted)\n",
    "hiddens = LSTM(output_dim=nb_filter, return_sequences=True)(activations)\n",
    "sent_probs = TimeDistributed(Dense(output_dim=3))(hiddens) # just for illustration purposed\n",
    "collapsed = AveragePooling1D(pool_length=max_doclen)(hiddens)\n",
    "hidden = Reshape([nb_filter])(collapsed)\n",
    "hidden = Dropout(0.5)(hidden)\n",
    "doc_probs = Dense(output_dim=nb_class, activation='softmax', name='doc_probs')(hidden)\n",
    "\n",
    "model = Model(input=input, output=doc_probs)\n",
    "model.compile(optimizer='adam', loss='categorical_crossentropy', metrics=['accuracy'])\n",
    "\n",
    "model.summary()"
   ]
  },
  {
   "cell_type": "markdown",
   "metadata": {},
   "source": [
    "### Train Model"
   ]
  },
  {
   "cell_type": "code",
   "execution_count": 7,
   "metadata": {
    "collapsed": false,
    "scrolled": false
   },
   "outputs": [
    {
     "name": "stdout",
     "output_type": "stream",
     "text": [
      "Epoch 1/10\n",
      "2/2 [==============================] - 0s - loss: 0.6911 - acc: 1.0000\n",
      "Epoch 2/10\n",
      "2/2 [==============================] - 0s - loss: 0.6933 - acc: 0.5000\n",
      "Epoch 3/10\n",
      "2/2 [==============================] - 0s - loss: 0.6939 - acc: 0.0000e+00\n",
      "Epoch 4/10\n",
      "2/2 [==============================] - 0s - loss: 0.6921 - acc: 1.0000\n",
      "Epoch 5/10\n",
      "2/2 [==============================] - 0s - loss: 0.6943 - acc: 0.0000e+00\n",
      "Epoch 6/10\n",
      "2/2 [==============================] - 0s - loss: 0.6923 - acc: 1.0000\n",
      "Epoch 7/10\n",
      "2/2 [==============================] - 0s - loss: 0.6929 - acc: 0.5000\n",
      "Epoch 8/10\n",
      "2/2 [==============================] - 0s - loss: 0.6924 - acc: 0.5000\n",
      "Epoch 9/10\n",
      "2/2 [==============================] - 0s - loss: 0.6944 - acc: 0.0000e+00\n",
      "Epoch 10/10\n",
      "2/2 [==============================] - 0s - loss: 0.6922 - acc: 1.0000\n"
     ]
    },
    {
     "data": {
      "text/plain": [
       "<keras.callbacks.History at 0x115ac5bd0>"
      ]
     },
     "execution_count": 7,
     "metadata": {},
     "output_type": "execute_result"
    }
   ],
   "source": [
    "from keras.utils.np_utils import to_categorical\n",
    "\n",
    "nb_train = 2\n",
    "\n",
    "X = np.zeros([nb_train, max_sentlen*max_doclen])\n",
    "X[0], X[1] = np.array([1, 2, 1] + [0, 1, 0]), np.array([0, 1, 0] + [1, 2, 1])\n",
    "\n",
    "y = to_categorical([1, 0])\n",
    "\n",
    "model.fit(X, y)"
   ]
  },
  {
   "cell_type": "markdown",
   "metadata": {},
   "source": [
    "### Predict"
   ]
  },
  {
   "cell_type": "code",
   "execution_count": 32,
   "metadata": {
    "collapsed": false
   },
   "outputs": [
    {
     "data": {
      "text/plain": [
       "[array([[ 0.00231019,  0.00555932,  0.00022178],\n",
       "        [-0.00690298, -0.00216747,  0.00016243]], dtype=float32),\n",
       " array([ 0.49855483,  0.50144517], dtype=float32)]"
      ]
     },
     "execution_count": 32,
     "metadata": {},
     "output_type": "execute_result"
    }
   ],
   "source": [
    "import keras.backend as K\n",
    "\n",
    "f = K.function(inputs=model.inputs+[K.learning_phase()],\n",
    "               outputs=[sent_probs, model.get_layer('doc_probs').output])\n",
    "\n",
    "[output[0] for output in f([X, 1])] # only grab the result from the first document"
   ]
  }
 ],
 "metadata": {
  "kernelspec": {
   "display_name": "Python 2",
   "language": "python",
   "name": "python2"
  },
  "language_info": {
   "codemirror_mode": {
    "name": "ipython",
    "version": 2
   },
   "file_extension": ".py",
   "mimetype": "text/x-python",
   "name": "python",
   "nbconvert_exporter": "python",
   "pygments_lexer": "ipython2",
   "version": "2.7.12"
  }
 },
 "nbformat": 4,
 "nbformat_minor": 0
}
