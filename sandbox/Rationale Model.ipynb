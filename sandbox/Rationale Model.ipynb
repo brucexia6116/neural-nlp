{
 "cells": [
  {
   "cell_type": "markdown",
   "metadata": {},
   "source": [
    "# Rationale Model"
   ]
  },
  {
   "cell_type": "markdown",
   "metadata": {},
   "source": [
    "### Hyperparameters"
   ]
  },
  {
   "cell_type": "code",
   "execution_count": 1,
   "metadata": {
    "collapsed": true
   },
   "outputs": [],
   "source": [
    "max_sentlen, max_doclen = 3, 2\n",
    "word_dim, vocab_size = 5, 10\n",
    "nb_filter, filter_len = 16, 1\n",
    "\n",
    "nb_class = 2"
   ]
  },
  {
   "cell_type": "markdown",
   "metadata": {},
   "source": [
    "Define an attention-specific layer..."
   ]
  },
  {
   "cell_type": "code",
   "execution_count": 2,
   "metadata": {
    "collapsed": false
   },
   "outputs": [
    {
     "name": "stderr",
     "output_type": "stream",
     "text": [
      "Using Theano backend.\n"
     ]
    }
   ],
   "source": [
    "import keras.backend as K\n",
    "\n",
    "def sum_vectors(x):\n",
    "    \"\"\"Sums a batch of vectors\n",
    "    \n",
    "    Parameters\n",
    "    ----------\n",
    "    x : (nb_batch, max_textlen, nb_filter) tensor\n",
    "    \n",
    "    Sums `x` along `axis=1` and returns a (nb_batch, nb_filter) tensor.\n",
    "    \n",
    "    \"\"\"\n",
    "    return K.sum(x, axis=1)"
   ]
  },
  {
   "cell_type": "markdown",
   "metadata": {},
   "source": [
    "### Define Model"
   ]
  },
  {
   "cell_type": "code",
   "execution_count": 3,
   "metadata": {
    "collapsed": false,
    "scrolled": false
   },
   "outputs": [
    {
     "name": "stdout",
     "output_type": "stream",
     "text": [
      "____________________________________________________________________________________________________\n",
      "Layer (type)                     Output Shape          Param #     Connected to                     \n",
      "====================================================================================================\n",
      "input_1 (InputLayer)             (None, 6)             0                                            \n",
      "____________________________________________________________________________________________________\n",
      "embedding_1 (Embedding)          (None, 6, 5)          50          input_1[0][0]                    \n",
      "____________________________________________________________________________________________________\n",
      "reshape_1 (Reshape)              (None, 1, 3, 10)      0           embedding_1[0][0]                \n",
      "____________________________________________________________________________________________________\n",
      "convolution2d_1 (Convolution2D)  (None, 16, 3, 2)      96          reshape_1[0][0]                  \n",
      "____________________________________________________________________________________________________\n",
      "maxpooling2d_1 (MaxPooling2D)    (None, 16, 1, 2)      0           convolution2d_1[0][0]            \n",
      "____________________________________________________________________________________________________\n",
      "permute_1 (Permute)              (None, 1, 2, 16)      0           maxpooling2d_1[0][0]             \n",
      "____________________________________________________________________________________________________\n",
      "reshape_2 (Reshape)              (None, 2, 16)         0           permute_1[0][0]                  \n",
      "____________________________________________________________________________________________________\n",
      "lstm_1 (LSTM)                    (None, 2, 16)         2112        reshape_2[0][0]                  \n",
      "____________________________________________________________________________________________________\n",
      "timedistributed_1 (TimeDistribute(None, 2, 1)          17          lstm_1[0][0]                     \n",
      "____________________________________________________________________________________________________\n",
      "reshape_3 (Reshape)              (None, 2)             0           timedistributed_1[0][0]          \n",
      "____________________________________________________________________________________________________\n",
      "sent_weights (Activation)        (None, 2)             0           reshape_3[0][0]                  \n",
      "____________________________________________________________________________________________________\n",
      "repeatvector_1 (RepeatVector)    (None, 16, 2)         0           sent_weights[0][0]               \n",
      "____________________________________________________________________________________________________\n",
      "block_mask (Permute)             (None, 2, 16)         0           repeatvector_1[0][0]             \n",
      "____________________________________________________________________________________________________\n",
      "dotted (Merge)                   (None, 2, 16)         0           lstm_1[0][0]                     \n",
      "                                                                   block_mask[0][0]                 \n",
      "____________________________________________________________________________________________________\n",
      "attended (Lambda)                (None, 16)            0           dotted[0][0]                     \n",
      "____________________________________________________________________________________________________\n",
      "dropout_1 (Dropout)              (None, 16)            0           attended[0][0]                   \n",
      "____________________________________________________________________________________________________\n",
      "doc_probs (Dense)                (None, 2)             34          dropout_1[0][0]                  \n",
      "====================================================================================================\n",
      "Total params: 2309\n",
      "____________________________________________________________________________________________________\n"
     ]
    },
    {
     "data": {
      "image/svg+xml": [
       "<svg height=\"1213pt\" viewBox=\"0.00 0.00 292.23 1213.00\" width=\"292pt\" xmlns=\"http://www.w3.org/2000/svg\" xmlns:xlink=\"http://www.w3.org/1999/xlink\">\n",
       "<g class=\"graph\" id=\"graph0\" transform=\"scale(1 1) rotate(0) translate(4 1209)\">\n",
       "<title>G</title>\n",
       "<polygon fill=\"white\" points=\"-4,4 -4,-1209 288.233,-1209 288.233,4 -4,4\" stroke=\"none\"/>\n",
       "<!-- 4519695760 -->\n",
       "<g class=\"node\" id=\"node1\"><title>4519695760</title>\n",
       "<polygon fill=\"none\" points=\"111.923,-1168.5 111.923,-1204.5 245.72,-1204.5 245.72,-1168.5 111.923,-1168.5\" stroke=\"black\"/>\n",
       "<text font-family=\"Times,serif\" font-size=\"14.00\" text-anchor=\"middle\" x=\"178.821\" y=\"-1182.3\">input_1 (InputLayer)</text>\n",
       "</g>\n",
       "<!-- 4519695824 -->\n",
       "<g class=\"node\" id=\"node2\"><title>4519695824</title>\n",
       "<polygon fill=\"none\" points=\"94.0332,-1095.5 94.0332,-1131.5 263.609,-1131.5 263.609,-1095.5 94.0332,-1095.5\" stroke=\"black\"/>\n",
       "<text font-family=\"Times,serif\" font-size=\"14.00\" text-anchor=\"middle\" x=\"178.821\" y=\"-1109.3\">embedding_1 (Embedding)</text>\n",
       "</g>\n",
       "<!-- 4519695760&#45;&gt;4519695824 -->\n",
       "<g class=\"edge\" id=\"edge1\"><title>4519695760-&gt;4519695824</title>\n",
       "<path d=\"M178.821,-1168.31C178.821,-1160.29 178.821,-1150.55 178.821,-1141.57\" fill=\"none\" stroke=\"black\"/>\n",
       "<polygon fill=\"black\" points=\"182.321,-1141.53 178.821,-1131.53 175.321,-1141.53 182.321,-1141.53\" stroke=\"black\"/>\n",
       "</g>\n",
       "<!-- 4519864848 -->\n",
       "<g class=\"node\" id=\"node3\"><title>4519864848</title>\n",
       "<polygon fill=\"none\" points=\"112.319,-1022.5 112.319,-1058.5 245.323,-1058.5 245.323,-1022.5 112.319,-1022.5\" stroke=\"black\"/>\n",
       "<text font-family=\"Times,serif\" font-size=\"14.00\" text-anchor=\"middle\" x=\"178.821\" y=\"-1036.3\">reshape_1 (Reshape)</text>\n",
       "</g>\n",
       "<!-- 4519695824&#45;&gt;4519864848 -->\n",
       "<g class=\"edge\" id=\"edge2\"><title>4519695824-&gt;4519864848</title>\n",
       "<path d=\"M178.821,-1095.31C178.821,-1087.29 178.821,-1077.55 178.821,-1068.57\" fill=\"none\" stroke=\"black\"/>\n",
       "<polygon fill=\"black\" points=\"182.321,-1068.53 178.821,-1058.53 175.321,-1068.53 182.321,-1068.53\" stroke=\"black\"/>\n",
       "</g>\n",
       "<!-- 4520453648 -->\n",
       "<g class=\"node\" id=\"node4\"><title>4520453648</title>\n",
       "<polygon fill=\"none\" points=\"73.4092,-949.5 73.4092,-985.5 284.233,-985.5 284.233,-949.5 73.4092,-949.5\" stroke=\"black\"/>\n",
       "<text font-family=\"Times,serif\" font-size=\"14.00\" text-anchor=\"middle\" x=\"178.821\" y=\"-963.3\">convolution2d_1 (Convolution2D)</text>\n",
       "</g>\n",
       "<!-- 4519864848&#45;&gt;4520453648 -->\n",
       "<g class=\"edge\" id=\"edge3\"><title>4519864848-&gt;4520453648</title>\n",
       "<path d=\"M178.821,-1022.31C178.821,-1014.29 178.821,-1004.55 178.821,-995.569\" fill=\"none\" stroke=\"black\"/>\n",
       "<polygon fill=\"black\" points=\"182.321,-995.529 178.821,-985.529 175.321,-995.529 182.321,-995.529\" stroke=\"black\"/>\n",
       "</g>\n",
       "<!-- 4520511312 -->\n",
       "<g class=\"node\" id=\"node5\"><title>4520511312</title>\n",
       "<polygon fill=\"none\" points=\"73.7988,-876.5 73.7988,-912.5 283.844,-912.5 283.844,-876.5 73.7988,-876.5\" stroke=\"black\"/>\n",
       "<text font-family=\"Times,serif\" font-size=\"14.00\" text-anchor=\"middle\" x=\"178.821\" y=\"-890.3\">maxpooling2d_1 (MaxPooling2D)</text>\n",
       "</g>\n",
       "<!-- 4520453648&#45;&gt;4520511312 -->\n",
       "<g class=\"edge\" id=\"edge4\"><title>4520453648-&gt;4520511312</title>\n",
       "<path d=\"M178.821,-949.313C178.821,-941.289 178.821,-931.547 178.821,-922.569\" fill=\"none\" stroke=\"black\"/>\n",
       "<polygon fill=\"black\" points=\"182.321,-922.529 178.821,-912.529 175.321,-922.529 182.321,-922.529\" stroke=\"black\"/>\n",
       "</g>\n",
       "<!-- 4542944528 -->\n",
       "<g class=\"node\" id=\"node6\"><title>4542944528</title>\n",
       "<polygon fill=\"none\" points=\"111.147,-803.5 111.147,-839.5 246.496,-839.5 246.496,-803.5 111.147,-803.5\" stroke=\"black\"/>\n",
       "<text font-family=\"Times,serif\" font-size=\"14.00\" text-anchor=\"middle\" x=\"178.821\" y=\"-817.3\">permute_1 (Permute)</text>\n",
       "</g>\n",
       "<!-- 4520511312&#45;&gt;4542944528 -->\n",
       "<g class=\"edge\" id=\"edge5\"><title>4520511312-&gt;4542944528</title>\n",
       "<path d=\"M178.821,-876.313C178.821,-868.289 178.821,-858.547 178.821,-849.569\" fill=\"none\" stroke=\"black\"/>\n",
       "<polygon fill=\"black\" points=\"182.321,-849.529 178.821,-839.529 175.321,-849.529 182.321,-849.529\" stroke=\"black\"/>\n",
       "</g>\n",
       "<!-- 4543016720 -->\n",
       "<g class=\"node\" id=\"node7\"><title>4543016720</title>\n",
       "<polygon fill=\"none\" points=\"112.319,-730.5 112.319,-766.5 245.323,-766.5 245.323,-730.5 112.319,-730.5\" stroke=\"black\"/>\n",
       "<text font-family=\"Times,serif\" font-size=\"14.00\" text-anchor=\"middle\" x=\"178.821\" y=\"-744.3\">reshape_2 (Reshape)</text>\n",
       "</g>\n",
       "<!-- 4542944528&#45;&gt;4543016720 -->\n",
       "<g class=\"edge\" id=\"edge6\"><title>4542944528-&gt;4543016720</title>\n",
       "<path d=\"M178.821,-803.313C178.821,-795.289 178.821,-785.547 178.821,-776.569\" fill=\"none\" stroke=\"black\"/>\n",
       "<polygon fill=\"black\" points=\"182.321,-776.529 178.821,-766.529 175.321,-776.529 182.321,-776.529\" stroke=\"black\"/>\n",
       "</g>\n",
       "<!-- 4543078608 -->\n",
       "<g class=\"node\" id=\"node8\"><title>4543078608</title>\n",
       "<polygon fill=\"none\" points=\"126.682,-657.5 126.682,-693.5 230.961,-693.5 230.961,-657.5 126.682,-657.5\" stroke=\"black\"/>\n",
       "<text font-family=\"Times,serif\" font-size=\"14.00\" text-anchor=\"middle\" x=\"178.821\" y=\"-671.3\">lstm_1 (LSTM)</text>\n",
       "</g>\n",
       "<!-- 4543016720&#45;&gt;4543078608 -->\n",
       "<g class=\"edge\" id=\"edge7\"><title>4543016720-&gt;4543078608</title>\n",
       "<path d=\"M178.821,-730.313C178.821,-722.289 178.821,-712.547 178.821,-703.569\" fill=\"none\" stroke=\"black\"/>\n",
       "<polygon fill=\"black\" points=\"182.321,-703.529 178.821,-693.529 175.321,-703.529 182.321,-703.529\" stroke=\"black\"/>\n",
       "</g>\n",
       "<!-- 4578069008 -->\n",
       "<g class=\"node\" id=\"node9\"><title>4578069008</title>\n",
       "<polygon fill=\"none\" points=\"0,-584.5 0,-620.5 219.643,-620.5 219.643,-584.5 0,-584.5\" stroke=\"black\"/>\n",
       "<text font-family=\"Times,serif\" font-size=\"14.00\" text-anchor=\"middle\" x=\"109.821\" y=\"-598.3\">timedistributed_1 (TimeDistributed)</text>\n",
       "</g>\n",
       "<!-- 4543078608&#45;&gt;4578069008 -->\n",
       "<g class=\"edge\" id=\"edge8\"><title>4543078608-&gt;4578069008</title>\n",
       "<path d=\"M162.118,-657.313C153.558,-648.505 142.985,-637.625 133.591,-627.958\" fill=\"none\" stroke=\"black\"/>\n",
       "<polygon fill=\"black\" points=\"135.85,-625.261 126.37,-620.529 130.83,-630.14 135.85,-625.261\" stroke=\"black\"/>\n",
       "</g>\n",
       "<!-- 4578325520 -->\n",
       "<g class=\"node\" id=\"node14\"><title>4578325520</title>\n",
       "<polygon fill=\"none\" points=\"141.767,-219.5 141.767,-255.5 241.876,-255.5 241.876,-219.5 141.767,-219.5\" stroke=\"black\"/>\n",
       "<text font-family=\"Times,serif\" font-size=\"14.00\" text-anchor=\"middle\" x=\"191.821\" y=\"-233.3\">dotted (Merge)</text>\n",
       "</g>\n",
       "<!-- 4543078608&#45;&gt;4578325520 -->\n",
       "<g class=\"edge\" id=\"edge13\"><title>4543078608-&gt;4578325520</title>\n",
       "<path d=\"M199.447,-657.419C209.786,-647.768 221.611,-634.875 228.821,-621 247.773,-584.531 247.821,-571.599 247.821,-530.5 247.821,-530.5 247.821,-530.5 247.821,-382.5 247.821,-338.88 225.225,-292.571 208.739,-264.591\" fill=\"none\" stroke=\"black\"/>\n",
       "<polygon fill=\"black\" points=\"211.605,-262.568 203.425,-255.835 205.622,-266.2 211.605,-262.568\" stroke=\"black\"/>\n",
       "</g>\n",
       "<!-- 4578068880 -->\n",
       "<g class=\"node\" id=\"node10\"><title>4578068880</title>\n",
       "<polygon fill=\"none\" points=\"45.3193,-511.5 45.3193,-547.5 178.323,-547.5 178.323,-511.5 45.3193,-511.5\" stroke=\"black\"/>\n",
       "<text font-family=\"Times,serif\" font-size=\"14.00\" text-anchor=\"middle\" x=\"111.821\" y=\"-525.3\">reshape_3 (Reshape)</text>\n",
       "</g>\n",
       "<!-- 4578069008&#45;&gt;4578068880 -->\n",
       "<g class=\"edge\" id=\"edge9\"><title>4578069008-&gt;4578068880</title>\n",
       "<path d=\"M110.305,-584.313C110.531,-576.289 110.806,-566.547 111.059,-557.569\" fill=\"none\" stroke=\"black\"/>\n",
       "<polygon fill=\"black\" points=\"114.559,-557.623 111.342,-547.529 107.561,-557.426 114.559,-557.623\" stroke=\"black\"/>\n",
       "</g>\n",
       "<!-- 4578101136 -->\n",
       "<g class=\"node\" id=\"node11\"><title>4578101136</title>\n",
       "<polygon fill=\"none\" points=\"39.3091,-438.5 39.3091,-474.5 200.333,-474.5 200.333,-438.5 39.3091,-438.5\" stroke=\"black\"/>\n",
       "<text font-family=\"Times,serif\" font-size=\"14.00\" text-anchor=\"middle\" x=\"119.821\" y=\"-452.3\">sent_weights (Activation)</text>\n",
       "</g>\n",
       "<!-- 4578068880&#45;&gt;4578101136 -->\n",
       "<g class=\"edge\" id=\"edge10\"><title>4578068880-&gt;4578101136</title>\n",
       "<path d=\"M113.758,-511.313C114.662,-503.289 115.76,-493.547 116.771,-484.569\" fill=\"none\" stroke=\"black\"/>\n",
       "<polygon fill=\"black\" points=\"120.261,-484.858 117.903,-474.529 113.305,-484.074 120.261,-484.858\" stroke=\"black\"/>\n",
       "</g>\n",
       "<!-- 4578101776 -->\n",
       "<g class=\"node\" id=\"node12\"><title>4578101776</title>\n",
       "<polygon fill=\"none\" points=\"30.1191,-365.5 30.1191,-401.5 217.523,-401.5 217.523,-365.5 30.1191,-365.5\" stroke=\"black\"/>\n",
       "<text font-family=\"Times,serif\" font-size=\"14.00\" text-anchor=\"middle\" x=\"123.821\" y=\"-379.3\">repeatvector_1 (RepeatVector)</text>\n",
       "</g>\n",
       "<!-- 4578101136&#45;&gt;4578101776 -->\n",
       "<g class=\"edge\" id=\"edge11\"><title>4578101136-&gt;4578101776</title>\n",
       "<path d=\"M120.79,-438.313C121.242,-430.289 121.79,-420.547 122.296,-411.569\" fill=\"none\" stroke=\"black\"/>\n",
       "<polygon fill=\"black\" points=\"125.794,-411.71 122.862,-401.529 118.805,-411.316 125.794,-411.71\" stroke=\"black\"/>\n",
       "</g>\n",
       "<!-- 4578272400 -->\n",
       "<g class=\"node\" id=\"node13\"><title>4578272400</title>\n",
       "<polygon fill=\"none\" points=\"64.2539,-292.5 64.2539,-328.5 207.389,-328.5 207.389,-292.5 64.2539,-292.5\" stroke=\"black\"/>\n",
       "<text font-family=\"Times,serif\" font-size=\"14.00\" text-anchor=\"middle\" x=\"135.821\" y=\"-306.3\">block_mask (Permute)</text>\n",
       "</g>\n",
       "<!-- 4578101776&#45;&gt;4578272400 -->\n",
       "<g class=\"edge\" id=\"edge12\"><title>4578101776-&gt;4578272400</title>\n",
       "<path d=\"M126.726,-365.313C128.082,-357.289 129.729,-347.547 131.246,-338.569\" fill=\"none\" stroke=\"black\"/>\n",
       "<polygon fill=\"black\" points=\"134.728,-338.972 132.943,-328.529 127.826,-337.806 134.728,-338.972\" stroke=\"black\"/>\n",
       "</g>\n",
       "<!-- 4578272400&#45;&gt;4578325520 -->\n",
       "<g class=\"edge\" id=\"edge14\"><title>4578272400-&gt;4578325520</title>\n",
       "<path d=\"M149.377,-292.313C156.187,-283.679 164.567,-273.055 172.076,-263.534\" fill=\"none\" stroke=\"black\"/>\n",
       "<polygon fill=\"black\" points=\"174.945,-265.548 178.39,-255.529 169.449,-261.213 174.945,-265.548\" stroke=\"black\"/>\n",
       "</g>\n",
       "<!-- 4578325840 -->\n",
       "<g class=\"node\" id=\"node15\"><title>4578325840</title>\n",
       "<polygon fill=\"none\" points=\"130.764,-146.5 130.764,-182.5 252.878,-182.5 252.878,-146.5 130.764,-146.5\" stroke=\"black\"/>\n",
       "<text font-family=\"Times,serif\" font-size=\"14.00\" text-anchor=\"middle\" x=\"191.821\" y=\"-160.3\">attended (Lambda)</text>\n",
       "</g>\n",
       "<!-- 4578325520&#45;&gt;4578325840 -->\n",
       "<g class=\"edge\" id=\"edge15\"><title>4578325520-&gt;4578325840</title>\n",
       "<path d=\"M191.821,-219.313C191.821,-211.289 191.821,-201.547 191.821,-192.569\" fill=\"none\" stroke=\"black\"/>\n",
       "<polygon fill=\"black\" points=\"195.321,-192.529 191.821,-182.529 188.321,-192.529 195.321,-192.529\" stroke=\"black\"/>\n",
       "</g>\n",
       "<!-- 4578326288 -->\n",
       "<g class=\"node\" id=\"node16\"><title>4578326288</title>\n",
       "<polygon fill=\"none\" points=\"125.302,-73.5 125.302,-109.5 258.34,-109.5 258.34,-73.5 125.302,-73.5\" stroke=\"black\"/>\n",
       "<text font-family=\"Times,serif\" font-size=\"14.00\" text-anchor=\"middle\" x=\"191.821\" y=\"-87.3\">dropout_1 (Dropout)</text>\n",
       "</g>\n",
       "<!-- 4578325840&#45;&gt;4578326288 -->\n",
       "<g class=\"edge\" id=\"edge16\"><title>4578325840-&gt;4578326288</title>\n",
       "<path d=\"M191.821,-146.313C191.821,-138.289 191.821,-128.547 191.821,-119.569\" fill=\"none\" stroke=\"black\"/>\n",
       "<polygon fill=\"black\" points=\"195.321,-119.529 191.821,-109.529 188.321,-119.529 195.321,-119.529\" stroke=\"black\"/>\n",
       "</g>\n",
       "<!-- 4578326864 -->\n",
       "<g class=\"node\" id=\"node17\"><title>4578326864</title>\n",
       "<polygon fill=\"none\" points=\"130.754,-0.5 130.754,-36.5 252.889,-36.5 252.889,-0.5 130.754,-0.5\" stroke=\"black\"/>\n",
       "<text font-family=\"Times,serif\" font-size=\"14.00\" text-anchor=\"middle\" x=\"191.821\" y=\"-14.3\">doc_probs (Dense)</text>\n",
       "</g>\n",
       "<!-- 4578326288&#45;&gt;4578326864 -->\n",
       "<g class=\"edge\" id=\"edge17\"><title>4578326288-&gt;4578326864</title>\n",
       "<path d=\"M191.821,-73.3129C191.821,-65.2895 191.821,-55.5475 191.821,-46.5691\" fill=\"none\" stroke=\"black\"/>\n",
       "<polygon fill=\"black\" points=\"195.321,-46.5288 191.821,-36.5288 188.321,-46.5289 195.321,-46.5288\" stroke=\"black\"/>\n",
       "</g>\n",
       "</g>\n",
       "</svg>"
      ],
      "text/plain": [
       "<IPython.core.display.SVG object>"
      ]
     },
     "execution_count": 3,
     "metadata": {},
     "output_type": "execute_result"
    }
   ],
   "source": [
    "from keras.layers import Input, Embedding, Dense, Reshape, Permute, Dropout, merge\n",
    "from keras.layers import Convolution2D, MaxPooling2D, Flatten, LSTM, AveragePooling1D\n",
    "from keras.models import Model\n",
    "from keras.layers import TimeDistributed, RepeatVector, Lambda\n",
    "from keras.layers.core import Activation\n",
    "\n",
    "# compute sentence vectors\n",
    "input = Input(shape=[max_sentlen*max_doclen], dtype='int32')\n",
    "embedded = Embedding(output_dim=word_dim, input_dim=vocab_size, input_length=max_sentlen*max_doclen)(input)\n",
    "reshaped = Reshape([1, max_sentlen, word_dim*max_doclen])(embedded)\n",
    "convolved = Convolution2D(nb_filter, nb_row=filter_len, nb_col=word_dim, subsample=[1, word_dim])(reshaped)\n",
    "pooled = MaxPooling2D(pool_size=[max_sentlen-filter_len+1, 1])(convolved)\n",
    "permuted = Permute([2, 3, 1])(pooled)\n",
    "activations = Reshape([max_doclen, nb_filter])(permuted)\n",
    "hiddens = LSTM(output_dim=nb_filter, return_sequences=True)(activations)\n",
    "\n",
    "# compute attention mask\n",
    "mask = TimeDistributed(Dense(1))(hiddens)\n",
    "mask = Reshape([max_doclen])(mask)\n",
    "mask = Activation('softmax', name='sent_weights')(mask)\n",
    "mask = RepeatVector(nb_filter)(mask)\n",
    "mask = Permute([2, 1], name='block_mask')(mask)\n",
    "\n",
    "# apply attention mask\n",
    "dotted = merge([hiddens, mask], mode='mul', name='dotted')\n",
    "hidden = Lambda(function=sum_vectors, output_shape=[nb_filter], name='attended')(dotted)\n",
    "\n",
    "hidden = Dropout(0.5)(hidden)\n",
    "doc_probs = Dense(output_dim=nb_class, activation='softmax', name='doc_probs')(hidden)\n",
    "\n",
    "model = Model(input=input, output=doc_probs)\n",
    "model.compile(optimizer='adam', loss='categorical_crossentropy', metrics=['accuracy'])\n",
    "\n",
    "model.summary()\n",
    "\n",
    "from IPython.display import SVG\n",
    "from keras.utils.visualize_util import model_to_dot\n",
    "\n",
    "SVG(model_to_dot(model).create(prog='dot', format='svg'))"
   ]
  },
  {
   "cell_type": "markdown",
   "metadata": {},
   "source": [
    "### Train Model"
   ]
  },
  {
   "cell_type": "code",
   "execution_count": 4,
   "metadata": {
    "collapsed": false,
    "scrolled": false
   },
   "outputs": [
    {
     "name": "stdout",
     "output_type": "stream",
     "text": [
      "Epoch 1/10\n",
      "2/2 [==============================] - 0s - loss: 0.6928 - acc: 0.5000\n",
      "Epoch 2/10\n",
      "2/2 [==============================] - 0s - loss: 0.6940 - acc: 0.5000\n",
      "Epoch 3/10\n",
      "2/2 [==============================] - 0s - loss: 0.6918 - acc: 1.0000\n",
      "Epoch 4/10\n",
      "2/2 [==============================] - 0s - loss: 0.6916 - acc: 1.0000\n",
      "Epoch 5/10\n",
      "2/2 [==============================] - 0s - loss: 0.6943 - acc: 0.5000\n",
      "Epoch 6/10\n",
      "2/2 [==============================] - 0s - loss: 0.6945 - acc: 0.5000\n",
      "Epoch 7/10\n",
      "2/2 [==============================] - 0s - loss: 0.6911 - acc: 0.5000\n",
      "Epoch 8/10\n",
      "2/2 [==============================] - 0s - loss: 0.6926 - acc: 1.0000\n",
      "Epoch 9/10\n",
      "2/2 [==============================] - 0s - loss: 0.6910 - acc: 1.0000\n",
      "Epoch 10/10\n",
      "2/2 [==============================] - 0s - loss: 0.6921 - acc: 1.0000\n"
     ]
    },
    {
     "data": {
      "text/plain": [
       "<keras.callbacks.History at 0x1118df5d0>"
      ]
     },
     "execution_count": 4,
     "metadata": {},
     "output_type": "execute_result"
    }
   ],
   "source": [
    "from keras.utils.np_utils import to_categorical\n",
    "\n",
    "nb_train = 2\n",
    "\n",
    "X = np.zeros([nb_train, max_sentlen*max_doclen])\n",
    "X[0], X[1] = np.array([1, 2, 1] + [0, 1, 0]), np.array([0, 1, 0] + [1, 2, 1])\n",
    "\n",
    "y = to_categorical([1, 0])\n",
    "\n",
    "model.fit(X, y)"
   ]
  },
  {
   "cell_type": "markdown",
   "metadata": {},
   "source": [
    "### Predict"
   ]
  },
  {
   "cell_type": "code",
   "execution_count": 5,
   "metadata": {
    "collapsed": false
   },
   "outputs": [
    {
     "data": {
      "text/plain": [
       "[array([ 0.50035012,  0.49964991], dtype=float32),\n",
       " array([ 0.50062913,  0.4993709 ], dtype=float32)]"
      ]
     },
     "execution_count": 5,
     "metadata": {},
     "output_type": "execute_result"
    }
   ],
   "source": [
    "import keras.backend as K\n",
    "\n",
    "f = K.function(inputs=model.inputs+[K.learning_phase()],\n",
    "               outputs=[model.get_layer('sent_weights').output, model.get_layer('doc_probs').output])\n",
    "\n",
    "[output[0] for output in f([X, 1])] # only grab the result from the first document"
   ]
  }
 ],
 "metadata": {
  "kernelspec": {
   "display_name": "Python 2",
   "language": "python",
   "name": "python2"
  },
  "language_info": {
   "codemirror_mode": {
    "name": "ipython",
    "version": 2
   },
   "file_extension": ".py",
   "mimetype": "text/x-python",
   "name": "python",
   "nbconvert_exporter": "python",
   "pygments_lexer": "ipython2",
   "version": "2.7.12"
  }
 },
 "nbformat": 4,
 "nbformat_minor": 0
}
