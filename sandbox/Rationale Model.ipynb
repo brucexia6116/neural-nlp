{
 "cells": [
  {
   "cell_type": "markdown",
   "metadata": {},
   "source": [
    "# Rationale Model"
   ]
  },
  {
   "cell_type": "markdown",
   "metadata": {},
   "source": [
    "### Hyperparameters"
   ]
  },
  {
   "cell_type": "code",
   "execution_count": 1,
   "metadata": {
    "collapsed": true
   },
   "outputs": [],
   "source": [
    "max_sentlen, max_doclen = 3, 2\n",
    "word_dim, vocab_size = 5, 10\n",
    "nb_filter, filter_len = 16, 1\n",
    "\n",
    "nb_class = 2"
   ]
  },
  {
   "cell_type": "markdown",
   "metadata": {},
   "source": [
    "### Define Model"
   ]
  },
  {
   "cell_type": "code",
   "execution_count": 4,
   "metadata": {
    "collapsed": false
   },
   "outputs": [
    {
     "name": "stdout",
     "output_type": "stream",
     "text": [
      "____________________________________________________________________________________________________\n",
      "Layer (type)                     Output Shape          Param #     Connected to                     \n",
      "====================================================================================================\n",
      "input_2 (InputLayer)             (None, 6)             0                                            \n",
      "____________________________________________________________________________________________________\n",
      "embedding_2 (Embedding)          (None, 6, 5)          50          input_2[0][0]                    \n",
      "____________________________________________________________________________________________________\n",
      "reshape_4 (Reshape)              (None, 1, 3, 10)      0           embedding_2[0][0]                \n",
      "____________________________________________________________________________________________________\n",
      "convolution2d_2 (Convolution2D)  (None, 16, 3, 2)      96          reshape_4[0][0]                  \n",
      "____________________________________________________________________________________________________\n",
      "maxpooling2d_2 (MaxPooling2D)    (None, 16, 1, 2)      0           convolution2d_2[0][0]            \n",
      "____________________________________________________________________________________________________\n",
      "permute_2 (Permute)              (None, 1, 2, 16)      0           maxpooling2d_2[0][0]             \n",
      "____________________________________________________________________________________________________\n",
      "reshape_5 (Reshape)              (None, 2, 16)         0           permute_2[0][0]                  \n",
      "____________________________________________________________________________________________________\n",
      "lstm_2 (LSTM)                    (None, 2, 16)         2112        reshape_5[0][0]                  \n",
      "____________________________________________________________________________________________________\n",
      "averagepooling1d_2 (AveragePoolin(None, 1, 16)         0           lstm_2[0][0]                     \n",
      "____________________________________________________________________________________________________\n",
      "reshape_6 (Reshape)              (None, 16)            0           averagepooling1d_2[0][0]         \n",
      "____________________________________________________________________________________________________\n",
      "dropout_2 (Dropout)              (None, 16)            0           reshape_6[0][0]                  \n",
      "____________________________________________________________________________________________________\n",
      "doc_probs (Dense)                (None, 2)             34          dropout_2[0][0]                  \n",
      "====================================================================================================\n",
      "Total params: 2292\n",
      "____________________________________________________________________________________________________\n"
     ]
    },
    {
     "data": {
      "image/svg+xml": [
       "<svg height=\"848pt\" viewBox=\"0.00 0.00 258.18 848.00\" width=\"258pt\" xmlns=\"http://www.w3.org/2000/svg\" xmlns:xlink=\"http://www.w3.org/1999/xlink\">\n",
       "<g class=\"graph\" id=\"graph0\" transform=\"scale(1 1) rotate(0) translate(4 844)\">\n",
       "<title>G</title>\n",
       "<polygon fill=\"white\" points=\"-4,4 -4,-844 254.179,-844 254.179,4 -4,4\" stroke=\"none\"/>\n",
       "<!-- 4582761104 -->\n",
       "<g class=\"node\" id=\"node1\"><title>4582761104</title>\n",
       "<polygon fill=\"none\" points=\"58.1909,-803.5 58.1909,-839.5 191.988,-839.5 191.988,-803.5 58.1909,-803.5\" stroke=\"black\"/>\n",
       "<text font-family=\"Times,serif\" font-size=\"14.00\" text-anchor=\"middle\" x=\"125.089\" y=\"-817.3\">input_2 (InputLayer)</text>\n",
       "</g>\n",
       "<!-- 4582763472 -->\n",
       "<g class=\"node\" id=\"node2\"><title>4582763472</title>\n",
       "<polygon fill=\"none\" points=\"40.3013,-730.5 40.3013,-766.5 209.877,-766.5 209.877,-730.5 40.3013,-730.5\" stroke=\"black\"/>\n",
       "<text font-family=\"Times,serif\" font-size=\"14.00\" text-anchor=\"middle\" x=\"125.089\" y=\"-744.3\">embedding_2 (Embedding)</text>\n",
       "</g>\n",
       "<!-- 4582761104&#45;&gt;4582763472 -->\n",
       "<g class=\"edge\" id=\"edge1\"><title>4582761104-&gt;4582763472</title>\n",
       "<path d=\"M125.089,-803.313C125.089,-795.289 125.089,-785.547 125.089,-776.569\" fill=\"none\" stroke=\"black\"/>\n",
       "<polygon fill=\"black\" points=\"128.589,-776.529 125.089,-766.529 121.589,-776.529 128.589,-776.529\" stroke=\"black\"/>\n",
       "</g>\n",
       "<!-- 4582762960 -->\n",
       "<g class=\"node\" id=\"node3\"><title>4582762960</title>\n",
       "<polygon fill=\"none\" points=\"58.5874,-657.5 58.5874,-693.5 191.591,-693.5 191.591,-657.5 58.5874,-657.5\" stroke=\"black\"/>\n",
       "<text font-family=\"Times,serif\" font-size=\"14.00\" text-anchor=\"middle\" x=\"125.089\" y=\"-671.3\">reshape_4 (Reshape)</text>\n",
       "</g>\n",
       "<!-- 4582763472&#45;&gt;4582762960 -->\n",
       "<g class=\"edge\" id=\"edge2\"><title>4582763472-&gt;4582762960</title>\n",
       "<path d=\"M125.089,-730.313C125.089,-722.289 125.089,-712.547 125.089,-703.569\" fill=\"none\" stroke=\"black\"/>\n",
       "<polygon fill=\"black\" points=\"128.589,-703.529 125.089,-693.529 121.589,-703.529 128.589,-703.529\" stroke=\"black\"/>\n",
       "</g>\n",
       "<!-- 4583013392 -->\n",
       "<g class=\"node\" id=\"node4\"><title>4583013392</title>\n",
       "<polygon fill=\"none\" points=\"19.6772,-584.5 19.6772,-620.5 230.501,-620.5 230.501,-584.5 19.6772,-584.5\" stroke=\"black\"/>\n",
       "<text font-family=\"Times,serif\" font-size=\"14.00\" text-anchor=\"middle\" x=\"125.089\" y=\"-598.3\">convolution2d_2 (Convolution2D)</text>\n",
       "</g>\n",
       "<!-- 4582762960&#45;&gt;4583013392 -->\n",
       "<g class=\"edge\" id=\"edge3\"><title>4582762960-&gt;4583013392</title>\n",
       "<path d=\"M125.089,-657.313C125.089,-649.289 125.089,-639.547 125.089,-630.569\" fill=\"none\" stroke=\"black\"/>\n",
       "<polygon fill=\"black\" points=\"128.589,-630.529 125.089,-620.529 121.589,-630.529 128.589,-630.529\" stroke=\"black\"/>\n",
       "</g>\n",
       "<!-- 4583536080 -->\n",
       "<g class=\"node\" id=\"node5\"><title>4583536080</title>\n",
       "<polygon fill=\"none\" points=\"20.0669,-511.5 20.0669,-547.5 230.112,-547.5 230.112,-511.5 20.0669,-511.5\" stroke=\"black\"/>\n",
       "<text font-family=\"Times,serif\" font-size=\"14.00\" text-anchor=\"middle\" x=\"125.089\" y=\"-525.3\">maxpooling2d_2 (MaxPooling2D)</text>\n",
       "</g>\n",
       "<!-- 4583013392&#45;&gt;4583536080 -->\n",
       "<g class=\"edge\" id=\"edge4\"><title>4583013392-&gt;4583536080</title>\n",
       "<path d=\"M125.089,-584.313C125.089,-576.289 125.089,-566.547 125.089,-557.569\" fill=\"none\" stroke=\"black\"/>\n",
       "<polygon fill=\"black\" points=\"128.589,-557.529 125.089,-547.529 121.589,-557.529 128.589,-557.529\" stroke=\"black\"/>\n",
       "</g>\n",
       "<!-- 4583628560 -->\n",
       "<g class=\"node\" id=\"node6\"><title>4583628560</title>\n",
       "<polygon fill=\"none\" points=\"57.415,-438.5 57.415,-474.5 192.764,-474.5 192.764,-438.5 57.415,-438.5\" stroke=\"black\"/>\n",
       "<text font-family=\"Times,serif\" font-size=\"14.00\" text-anchor=\"middle\" x=\"125.089\" y=\"-452.3\">permute_2 (Permute)</text>\n",
       "</g>\n",
       "<!-- 4583536080&#45;&gt;4583628560 -->\n",
       "<g class=\"edge\" id=\"edge5\"><title>4583536080-&gt;4583628560</title>\n",
       "<path d=\"M125.089,-511.313C125.089,-503.289 125.089,-493.547 125.089,-484.569\" fill=\"none\" stroke=\"black\"/>\n",
       "<polygon fill=\"black\" points=\"128.589,-484.529 125.089,-474.529 121.589,-484.529 128.589,-484.529\" stroke=\"black\"/>\n",
       "</g>\n",
       "<!-- 4583710992 -->\n",
       "<g class=\"node\" id=\"node7\"><title>4583710992</title>\n",
       "<polygon fill=\"none\" points=\"58.5874,-365.5 58.5874,-401.5 191.591,-401.5 191.591,-365.5 58.5874,-365.5\" stroke=\"black\"/>\n",
       "<text font-family=\"Times,serif\" font-size=\"14.00\" text-anchor=\"middle\" x=\"125.089\" y=\"-379.3\">reshape_5 (Reshape)</text>\n",
       "</g>\n",
       "<!-- 4583628560&#45;&gt;4583710992 -->\n",
       "<g class=\"edge\" id=\"edge6\"><title>4583628560-&gt;4583710992</title>\n",
       "<path d=\"M125.089,-438.313C125.089,-430.289 125.089,-420.547 125.089,-411.569\" fill=\"none\" stroke=\"black\"/>\n",
       "<polygon fill=\"black\" points=\"128.589,-411.529 125.089,-401.529 121.589,-411.529 128.589,-411.529\" stroke=\"black\"/>\n",
       "</g>\n",
       "<!-- 4583628048 -->\n",
       "<g class=\"node\" id=\"node8\"><title>4583628048</title>\n",
       "<polygon fill=\"none\" points=\"72.9497,-292.5 72.9497,-328.5 177.229,-328.5 177.229,-292.5 72.9497,-292.5\" stroke=\"black\"/>\n",
       "<text font-family=\"Times,serif\" font-size=\"14.00\" text-anchor=\"middle\" x=\"125.089\" y=\"-306.3\">lstm_2 (LSTM)</text>\n",
       "</g>\n",
       "<!-- 4583710992&#45;&gt;4583628048 -->\n",
       "<g class=\"edge\" id=\"edge7\"><title>4583710992-&gt;4583628048</title>\n",
       "<path d=\"M125.089,-365.313C125.089,-357.289 125.089,-347.547 125.089,-338.569\" fill=\"none\" stroke=\"black\"/>\n",
       "<polygon fill=\"black\" points=\"128.589,-338.529 125.089,-328.529 121.589,-338.529 128.589,-338.529\" stroke=\"black\"/>\n",
       "</g>\n",
       "<!-- 4584294800 -->\n",
       "<g class=\"node\" id=\"node9\"><title>4584294800</title>\n",
       "<polygon fill=\"none\" points=\"0,-219.5 0,-255.5 250.179,-255.5 250.179,-219.5 0,-219.5\" stroke=\"black\"/>\n",
       "<text font-family=\"Times,serif\" font-size=\"14.00\" text-anchor=\"middle\" x=\"125.089\" y=\"-233.3\">averagepooling1d_2 (AveragePooling1D)</text>\n",
       "</g>\n",
       "<!-- 4583628048&#45;&gt;4584294800 -->\n",
       "<g class=\"edge\" id=\"edge8\"><title>4583628048-&gt;4584294800</title>\n",
       "<path d=\"M125.089,-292.313C125.089,-284.289 125.089,-274.547 125.089,-265.569\" fill=\"none\" stroke=\"black\"/>\n",
       "<polygon fill=\"black\" points=\"128.589,-265.529 125.089,-255.529 121.589,-265.529 128.589,-265.529\" stroke=\"black\"/>\n",
       "</g>\n",
       "<!-- 4584223184 -->\n",
       "<g class=\"node\" id=\"node10\"><title>4584223184</title>\n",
       "<polygon fill=\"none\" points=\"58.5874,-146.5 58.5874,-182.5 191.591,-182.5 191.591,-146.5 58.5874,-146.5\" stroke=\"black\"/>\n",
       "<text font-family=\"Times,serif\" font-size=\"14.00\" text-anchor=\"middle\" x=\"125.089\" y=\"-160.3\">reshape_6 (Reshape)</text>\n",
       "</g>\n",
       "<!-- 4584294800&#45;&gt;4584223184 -->\n",
       "<g class=\"edge\" id=\"edge9\"><title>4584294800-&gt;4584223184</title>\n",
       "<path d=\"M125.089,-219.313C125.089,-211.289 125.089,-201.547 125.089,-192.569\" fill=\"none\" stroke=\"black\"/>\n",
       "<polygon fill=\"black\" points=\"128.589,-192.529 125.089,-182.529 121.589,-192.529 128.589,-192.529\" stroke=\"black\"/>\n",
       "</g>\n",
       "<!-- 4584225552 -->\n",
       "<g class=\"node\" id=\"node11\"><title>4584225552</title>\n",
       "<polygon fill=\"none\" points=\"58.5703,-73.5 58.5703,-109.5 191.608,-109.5 191.608,-73.5 58.5703,-73.5\" stroke=\"black\"/>\n",
       "<text font-family=\"Times,serif\" font-size=\"14.00\" text-anchor=\"middle\" x=\"125.089\" y=\"-87.3\">dropout_2 (Dropout)</text>\n",
       "</g>\n",
       "<!-- 4584223184&#45;&gt;4584225552 -->\n",
       "<g class=\"edge\" id=\"edge10\"><title>4584223184-&gt;4584225552</title>\n",
       "<path d=\"M125.089,-146.313C125.089,-138.289 125.089,-128.547 125.089,-119.569\" fill=\"none\" stroke=\"black\"/>\n",
       "<polygon fill=\"black\" points=\"128.589,-119.529 125.089,-109.529 121.589,-119.529 128.589,-119.529\" stroke=\"black\"/>\n",
       "</g>\n",
       "<!-- 4584226192 -->\n",
       "<g class=\"node\" id=\"node12\"><title>4584226192</title>\n",
       "<polygon fill=\"none\" points=\"64.022,-0.5 64.022,-36.5 186.157,-36.5 186.157,-0.5 64.022,-0.5\" stroke=\"black\"/>\n",
       "<text font-family=\"Times,serif\" font-size=\"14.00\" text-anchor=\"middle\" x=\"125.089\" y=\"-14.3\">doc_probs (Dense)</text>\n",
       "</g>\n",
       "<!-- 4584225552&#45;&gt;4584226192 -->\n",
       "<g class=\"edge\" id=\"edge11\"><title>4584225552-&gt;4584226192</title>\n",
       "<path d=\"M125.089,-73.3129C125.089,-65.2895 125.089,-55.5475 125.089,-46.5691\" fill=\"none\" stroke=\"black\"/>\n",
       "<polygon fill=\"black\" points=\"128.589,-46.5288 125.089,-36.5288 121.589,-46.5289 128.589,-46.5288\" stroke=\"black\"/>\n",
       "</g>\n",
       "</g>\n",
       "</svg>"
      ],
      "text/plain": [
       "<IPython.core.display.SVG object>"
      ]
     },
     "execution_count": 4,
     "metadata": {},
     "output_type": "execute_result"
    }
   ],
   "source": [
    "from keras.layers import Input, Embedding, Dense, Reshape, Permute, Dropout\n",
    "from keras.layers import Convolution2D, MaxPooling2D, Flatten, LSTM, AveragePooling1D\n",
    "from keras.models import Model\n",
    "from keras.layers import TimeDistributed\n",
    "\n",
    "input = Input(shape=[max_sentlen*max_doclen], dtype='int32')\n",
    "\n",
    "embedded = Embedding(output_dim=word_dim, input_dim=vocab_size, input_length=max_sentlen*max_doclen)(input)\n",
    "reshaped = Reshape([1, max_sentlen, word_dim*max_doclen])(embedded)\n",
    "convolved = Convolution2D(nb_filter, nb_row=filter_len, nb_col=word_dim, subsample=[1, word_dim])(reshaped)\n",
    "pooled = MaxPooling2D(pool_size=[max_sentlen-filter_len+1, 1])(convolved)\n",
    "permuted = Permute([2, 3, 1])(pooled)\n",
    "activations = Reshape([max_doclen, nb_filter])(permuted)\n",
    "hiddens = LSTM(output_dim=nb_filter, return_sequences=True)(activations)\n",
    "sent_probs = TimeDistributed(Dense(output_dim=3))(hiddens) # just for illustration purposed\n",
    "collapsed = AveragePooling1D(pool_length=max_doclen)(hiddens)\n",
    "hidden = Reshape([nb_filter])(collapsed)\n",
    "hidden = Dropout(0.5)(hidden)\n",
    "doc_probs = Dense(output_dim=nb_class, activation='softmax', name='doc_probs')(hidden)\n",
    "\n",
    "model = Model(input=input, output=doc_probs)\n",
    "model.compile(optimizer='adam', loss='categorical_crossentropy', metrics=['accuracy'])\n",
    "\n",
    "model.summary()\n",
    "\n",
    "from IPython.display import SVG\n",
    "from keras.utils.visualize_util import model_to_dot\n",
    "\n",
    "SVG(model_to_dot(model).create(prog='dot', format='svg'))"
   ]
  },
  {
   "cell_type": "markdown",
   "metadata": {},
   "source": [
    "### Train Model"
   ]
  },
  {
   "cell_type": "code",
   "execution_count": 7,
   "metadata": {
    "collapsed": false,
    "scrolled": false
   },
   "outputs": [
    {
     "name": "stdout",
     "output_type": "stream",
     "text": [
      "Epoch 1/10\n",
      "2/2 [==============================] - 0s - loss: 0.6911 - acc: 1.0000\n",
      "Epoch 2/10\n",
      "2/2 [==============================] - 0s - loss: 0.6933 - acc: 0.5000\n",
      "Epoch 3/10\n",
      "2/2 [==============================] - 0s - loss: 0.6939 - acc: 0.0000e+00\n",
      "Epoch 4/10\n",
      "2/2 [==============================] - 0s - loss: 0.6921 - acc: 1.0000\n",
      "Epoch 5/10\n",
      "2/2 [==============================] - 0s - loss: 0.6943 - acc: 0.0000e+00\n",
      "Epoch 6/10\n",
      "2/2 [==============================] - 0s - loss: 0.6923 - acc: 1.0000\n",
      "Epoch 7/10\n",
      "2/2 [==============================] - 0s - loss: 0.6929 - acc: 0.5000\n",
      "Epoch 8/10\n",
      "2/2 [==============================] - 0s - loss: 0.6924 - acc: 0.5000\n",
      "Epoch 9/10\n",
      "2/2 [==============================] - 0s - loss: 0.6944 - acc: 0.0000e+00\n",
      "Epoch 10/10\n",
      "2/2 [==============================] - 0s - loss: 0.6922 - acc: 1.0000\n"
     ]
    },
    {
     "data": {
      "text/plain": [
       "<keras.callbacks.History at 0x115ac5bd0>"
      ]
     },
     "execution_count": 7,
     "metadata": {},
     "output_type": "execute_result"
    }
   ],
   "source": [
    "from keras.utils.np_utils import to_categorical\n",
    "\n",
    "nb_train = 2\n",
    "\n",
    "X = np.zeros([nb_train, max_sentlen*max_doclen])\n",
    "X[0], X[1] = np.array([1, 2, 1] + [0, 1, 0]), np.array([0, 1, 0] + [1, 2, 1])\n",
    "\n",
    "y = to_categorical([1, 0])\n",
    "\n",
    "model.fit(X, y)"
   ]
  },
  {
   "cell_type": "markdown",
   "metadata": {},
   "source": [
    "### Predict"
   ]
  },
  {
   "cell_type": "code",
   "execution_count": 32,
   "metadata": {
    "collapsed": false
   },
   "outputs": [
    {
     "data": {
      "text/plain": [
       "[array([[ 0.00231019,  0.00555932,  0.00022178],\n",
       "        [-0.00690298, -0.00216747,  0.00016243]], dtype=float32),\n",
       " array([ 0.49855483,  0.50144517], dtype=float32)]"
      ]
     },
     "execution_count": 32,
     "metadata": {},
     "output_type": "execute_result"
    }
   ],
   "source": [
    "import keras.backend as K\n",
    "\n",
    "f = K.function(inputs=model.inputs+[K.learning_phase()],\n",
    "               outputs=[sent_probs, model.get_layer('doc_probs').output])\n",
    "\n",
    "[output[0] for output in f([X, 1])] # only grab the result from the first document"
   ]
  }
 ],
 "metadata": {
  "kernelspec": {
   "display_name": "Python 2",
   "language": "python",
   "name": "python2"
  },
  "language_info": {
   "codemirror_mode": {
    "name": "ipython",
    "version": 2
   },
   "file_extension": ".py",
   "mimetype": "text/x-python",
   "name": "python",
   "nbconvert_exporter": "python",
   "pygments_lexer": "ipython2",
   "version": "2.7.12"
  }
 },
 "nbformat": 4,
 "nbformat_minor": 0
}
