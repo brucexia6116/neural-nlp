{
 "cells": [
  {
   "cell_type": "markdown",
   "metadata": {},
   "source": [
    "Load model..."
   ]
  },
  {
   "cell_type": "code",
   "execution_count": 21,
   "metadata": {
    "collapsed": false
   },
   "outputs": [],
   "source": [
    "import keras\n",
    "\n",
    "model = keras.models.load_model('model.h5')"
   ]
  },
  {
   "cell_type": "markdown",
   "metadata": {},
   "source": [
    "Load vectorizer and extract model dimensions..."
   ]
  },
  {
   "cell_type": "code",
   "execution_count": 3,
   "metadata": {
    "collapsed": true
   },
   "outputs": [],
   "source": [
    "vectorizer = pickle.load(open('rationale-vectorizer.p'))\n",
    "\n",
    "max_sentlen = vectorizer.maxlen\n",
    "max_doclen = model.layers[1].input_length / max_sentlen # hacky way to get out `max_doclen`"
   ]
  },
  {
   "cell_type": "markdown",
   "metadata": {},
   "source": [
    "Load a document..."
   ]
  },
  {
   "cell_type": "code",
   "execution_count": 69,
   "metadata": {
    "collapsed": false
   },
   "outputs": [],
   "source": [
    "%store -r doc_df\n",
    "\n",
    "_, doc = next(iter(doc_df.groupby('doc_id')))\n",
    "\n",
    "X_seq = vectorizer.texts_to_sequences(doc.sentence)\n",
    "nb_sentence, _ = X_seq.shape\n",
    "X_doc = np.zeros([max_doclen, max_sentlen])\n",
    "X_doc[max_doclen-min(max_doclen, nb_sentence):] = X_seq[:max_doclen]\n",
    "\n",
    "X = np.zeros([1, max_sentlen*max_doclen], dtype=np.int)\n",
    "X[0] = X_doc.reshape([max_sentlen*max_doclen])"
   ]
  },
  {
   "cell_type": "markdown",
   "metadata": {},
   "source": [
    "Predict sentence weights and document label..."
   ]
  },
  {
   "cell_type": "code",
   "execution_count": 78,
   "metadata": {
    "collapsed": false
   },
   "outputs": [],
   "source": [
    "import keras.backend as K\n",
    "\n",
    "f = K.function(inputs=model.inputs+[K.learning_phase()],\n",
    "               outputs=[model.get_layer('sent_weights').output, model.get_layer('doc_probs').output])\n",
    "\n",
    "sent_weights, doc_probs = [output[0] for output in f([X, 1])] # only grab the result from the first document"
   ]
  }
 ],
 "metadata": {
  "kernelspec": {
   "display_name": "Python 2",
   "language": "python",
   "name": "python2"
  },
  "language_info": {
   "codemirror_mode": {
    "name": "ipython",
    "version": 2
   },
   "file_extension": ".py",
   "mimetype": "text/x-python",
   "name": "python",
   "nbconvert_exporter": "python",
   "pygments_lexer": "ipython2",
   "version": "2.7.12"
  }
 },
 "nbformat": 4,
 "nbformat_minor": 0
}
