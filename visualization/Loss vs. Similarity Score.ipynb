{
 "cells": [
  {
   "cell_type": "markdown",
   "metadata": {},
   "source": [
    "# Loss vs. Similarity Score\n",
    "\n",
    "- *Loss* refers to training loss (currently). Training loss is noise-contrastive estimation *hinge* loss.\n",
    "- *Similarity score* refers to the mean similarity between studies in the same review minus the mean similarity between studies in different reviews. A similarity score > 0 indicates that studies in the same review are closer to each other than studies in different reviews!\n",
    "    - For computing the similarity score, I'm sampling 128 pairs of studies. The first 64 are pairs of studies from the same review. The second 64 pairs are studies from different reviews. The similarity score is just the average similarity of the first 64 minus the average similarity of the second 64. We probably want to increase this number to increase the robustness of the estimate, but it seems to be working fine thus far!\n",
    "\n",
    "This is currently with *outcome* summaries."
   ]
  },
  {
   "cell_type": "code",
   "execution_count": 34,
   "metadata": {
    "collapsed": false
   },
   "outputs": [
    {
     "name": "stdout",
     "output_type": "stream",
     "text": [
      "\u001b[34mbig-k\u001b[m\u001b[m/       \u001b[34mhinge\u001b[m\u001b[m/       \u001b[34mlittle-k\u001b[m\u001b[m/    \u001b[34mtest\u001b[m\u001b[m/        \u001b[34munseen\u001b[m\u001b[m/\r\n",
      "\u001b[34mheld-out\u001b[m\u001b[m/    \u001b[34mlarge-epoch\u001b[m\u001b[m/ \u001b[34msgd\u001b[m\u001b[m/         \u001b[34mtop-k\u001b[m\u001b[m/\r\n"
     ]
    }
   ],
   "source": [
    "ls store/hyperparams/"
   ]
  },
  {
   "cell_type": "code",
   "execution_count": 35,
   "metadata": {
    "collapsed": false,
    "scrolled": false
   },
   "outputs": [
    {
     "data": {
      "text/html": [
       "<div>\n",
       "<table border=\"1\" class=\"dataframe\">\n",
       "  <thead>\n",
       "    <tr style=\"text-align: right;\">\n",
       "      <th></th>\n",
       "      <th>best_mu</th>\n",
       "      <th>best</th>\n",
       "      <th>worst</th>\n",
       "      <th>best_epoch</th>\n",
       "      <th>callbacks</th>\n",
       "      <th>exp-group</th>\n",
       "      <th>nb-data</th>\n",
       "      <th>nb-epoch</th>\n",
       "      <th>reg</th>\n",
       "    </tr>\n",
       "    <tr>\n",
       "      <th>exp-id</th>\n",
       "      <th></th>\n",
       "      <th></th>\n",
       "      <th></th>\n",
       "      <th></th>\n",
       "      <th></th>\n",
       "      <th></th>\n",
       "      <th></th>\n",
       "      <th></th>\n",
       "      <th></th>\n",
       "    </tr>\n",
       "  </thead>\n",
       "  <tbody>\n",
       "    <tr>\n",
       "      <th>1</th>\n",
       "      <td>0.400681</td>\n",
       "      <td>0.400681</td>\n",
       "      <td>0.400681</td>\n",
       "      <td>9</td>\n",
       "      <td>cb,ss,sl,fl,cv</td>\n",
       "      <td>unseen</td>\n",
       "      <td>0.0116666666667</td>\n",
       "      <td>32</td>\n",
       "      <td>1e-06</td>\n",
       "    </tr>\n",
       "    <tr>\n",
       "      <th>2</th>\n",
       "      <td>0.374148</td>\n",
       "      <td>0.374148</td>\n",
       "      <td>0.374148</td>\n",
       "      <td>11</td>\n",
       "      <td>cb,ss,sl,fl,cv</td>\n",
       "      <td>unseen</td>\n",
       "      <td>0.0133333333333</td>\n",
       "      <td>32</td>\n",
       "      <td>1e-06</td>\n",
       "    </tr>\n",
       "    <tr>\n",
       "      <th>0</th>\n",
       "      <td>0.294567</td>\n",
       "      <td>0.294567</td>\n",
       "      <td>0.294567</td>\n",
       "      <td>14</td>\n",
       "      <td>cb,ss,sl,fl,cv</td>\n",
       "      <td>unseen</td>\n",
       "      <td>0.01</td>\n",
       "      <td>32</td>\n",
       "      <td>1e-06</td>\n",
       "    </tr>\n",
       "  </tbody>\n",
       "</table>\n",
       "</div>"
      ],
      "text/plain": [
       "         best_mu      best     worst  best_epoch       callbacks exp-group  \\\n",
       "exp-id                                                                       \n",
       "1       0.400681  0.400681  0.400681           9  cb,ss,sl,fl,cv    unseen   \n",
       "2       0.374148  0.374148  0.374148          11  cb,ss,sl,fl,cv    unseen   \n",
       "0       0.294567  0.294567  0.294567          14  cb,ss,sl,fl,cv    unseen   \n",
       "\n",
       "                nb-data nb-epoch    reg  \n",
       "exp-id                                   \n",
       "1       0.0116666666667       32  1e-06  \n",
       "2       0.0133333333333       32  1e-06  \n",
       "0                  0.01       32  1e-06  "
      ]
     },
     "execution_count": 35,
     "metadata": {},
     "output_type": "execute_result"
    }
   ],
   "source": [
    "from curves import LearningCurveVisualizer\n",
    "\n",
    "lv = LearningCurveVisualizer(exp_group='unseen', metric='similarity_score', mode='max')\n",
    "\n",
    "lv.best_runs()"
   ]
  },
  {
   "cell_type": "markdown",
   "metadata": {},
   "source": [
    "The `best_mu` value refers to the model setting with the best training loss."
   ]
  },
  {
   "cell_type": "markdown",
   "metadata": {},
   "source": [
    "### Loss and Similarity Score"
   ]
  },
  {
   "cell_type": "code",
   "execution_count": 36,
   "metadata": {
    "collapsed": false
   },
   "outputs": [
    {
     "data": {
      "image/png": "[encoded data removed]",
      "text/plain": [
       "<matplotlib.figure.Figure at 0x10bc700d0>"
      ]
     },
     "metadata": {},
     "output_type": "display_data"
    }
   ],
   "source": [
    "lv.plot_values(['loss', 'similarity_score'])"
   ]
  }
 ],
 "metadata": {
  "kernelspec": {
   "display_name": "Python 2",
   "language": "python",
   "name": "python2"
  },
  "language_info": {
   "codemirror_mode": {
    "name": "ipython",
    "version": 2
   },
   "file_extension": ".py",
   "mimetype": "text/x-python",
   "name": "python",
   "nbconvert_exporter": "python",
   "pygments_lexer": "ipython2",
   "version": "2.7.12"
  }
 },
 "nbformat": 4,
 "nbformat_minor": 0
}
