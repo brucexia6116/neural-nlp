{
 "cells": [
  {
   "cell_type": "markdown",
   "metadata": {},
   "source": [
    "# Loss vs. Similarity Score\n",
    "\n",
    "- *Loss* refers to training loss (currently). Training loss is noise-contrastive estimation log loss.\n",
    "- *Similarity score* refers to the mean similarity between studies in the same review minus the mean similarity between studies in different reviews. A similarity score > 0 indicates that studies in the same review are closer to each other than studies in different reviews!\n",
    "\n",
    "This is currently with *outcome* summaries."
   ]
  },
  {
   "cell_type": "code",
   "execution_count": 11,
   "metadata": {
    "collapsed": false,
    "scrolled": false
   },
   "outputs": [
    {
     "data": {
      "text/html": [
       "<div>\n",
       "<table border=\"1\" class=\"dataframe\">\n",
       "  <thead>\n",
       "    <tr style=\"text-align: right;\">\n",
       "      <th></th>\n",
       "      <th>best_mu</th>\n",
       "      <th>best_range</th>\n",
       "      <th>best</th>\n",
       "      <th>worst</th>\n",
       "      <th>best_epoch</th>\n",
       "      <th>callbacks</th>\n",
       "      <th>exp-group</th>\n",
       "      <th>fit-generator</th>\n",
       "      <th>inputs</th>\n",
       "      <th>labels</th>\n",
       "      <th>metric</th>\n",
       "      <th>top-k</th>\n",
       "      <th>trainer</th>\n",
       "    </tr>\n",
       "    <tr>\n",
       "      <th>exp-id</th>\n",
       "      <th></th>\n",
       "      <th></th>\n",
       "      <th></th>\n",
       "      <th></th>\n",
       "      <th></th>\n",
       "      <th></th>\n",
       "      <th></th>\n",
       "      <th></th>\n",
       "      <th></th>\n",
       "      <th></th>\n",
       "      <th></th>\n",
       "      <th></th>\n",
       "      <th></th>\n",
       "    </tr>\n",
       "  </thead>\n",
       "  <tbody>\n",
       "    <tr>\n",
       "      <th>0</th>\n",
       "      <td>0.750783</td>\n",
       "      <td>0.0</td>\n",
       "      <td>0.750783</td>\n",
       "      <td>0.750783</td>\n",
       "      <td>4</td>\n",
       "      <td>cb,ce,fl,sl,ss,cv</td>\n",
       "      <td>cnn-siamese</td>\n",
       "      <td>True</td>\n",
       "      <td>abstracts,outcomes</td>\n",
       "      <td>None</td>\n",
       "      <td>None</td>\n",
       "      <td>2</td>\n",
       "      <td>CNNSiameseTrainer</td>\n",
       "    </tr>\n",
       "  </tbody>\n",
       "</table>\n",
       "</div>"
      ],
      "text/plain": [
       "         best_mu  best_range      best     worst  best_epoch  \\\n",
       "exp-id                                                         \n",
       "0       0.750783         0.0  0.750783  0.750783           4   \n",
       "\n",
       "                callbacks    exp-group fit-generator              inputs  \\\n",
       "exp-id                                                                     \n",
       "0       cb,ce,fl,sl,ss,cv  cnn-siamese          True  abstracts,outcomes   \n",
       "\n",
       "       labels metric top-k            trainer  \n",
       "exp-id                                         \n",
       "0        None   None     2  CNNSiameseTrainer  "
      ]
     },
     "execution_count": 11,
     "metadata": {},
     "output_type": "execute_result"
    }
   ],
   "source": [
    "from curves import LearningCurveVisualizer\n",
    "\n",
    "lv = LearningCurveVisualizer(exp_group='cnn-siamese', metric='loss')\n",
    "\n",
    "lv.best_runs()"
   ]
  },
  {
   "cell_type": "markdown",
   "metadata": {},
   "source": [
    "The `best_mu` value refers to the model setting with the best training loss."
   ]
  },
  {
   "cell_type": "markdown",
   "metadata": {},
   "source": [
    "### Loss vs. Similarity Score\n",
    "\n",
    "The fact that `similarity_score` is negative means overall that studies in different reviews were more similar than studies in the same review. However, the scores are currently unnormalized dot products, which might have something to do with it!\n",
    "\n",
    "The good news is `loss` and `similarity_score` seem to be correlated, though!"
   ]
  },
  {
   "cell_type": "code",
   "execution_count": 16,
   "metadata": {
    "collapsed": false
   },
   "outputs": [
    {
     "data": {
      "image/png": "[encoded data removed]",
      "text/plain": [
       "<matplotlib.figure.Figure at 0x10ce86490>"
      ]
     },
     "metadata": {},
     "output_type": "display_data"
    }
   ],
   "source": [
    "lv.plot_values(['loss', 'similarity_score'])"
   ]
  }
 ],
 "metadata": {
  "kernelspec": {
   "display_name": "Python 2",
   "language": "python",
   "name": "python2"
  }
 },
 "nbformat": 4,
 "nbformat_minor": 0
}
