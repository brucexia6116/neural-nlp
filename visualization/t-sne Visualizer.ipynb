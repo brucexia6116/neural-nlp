{
 "cells": [
  {
   "cell_type": "markdown",
   "metadata": {},
   "source": [
    "# t-sne Visualizer\n",
    "\n",
    "- Pull in vectors of studies\n",
    "- Find $k$ reviews which have the most studies to declutter visualization\n",
    "- Get rid of all studies not in those reviews\n",
    "- t-sne plot"
   ]
  },
  {
   "cell_type": "markdown",
   "metadata": {},
   "source": [
    "### Choose Experiment Group & ID"
   ]
  },
  {
   "cell_type": "code",
   "execution_count": 13,
   "metadata": {
    "collapsed": true
   },
   "outputs": [],
   "source": [
    "exp_group = 'siamese'\n",
    "exp_id = 0"
   ]
  },
  {
   "cell_type": "markdown",
   "metadata": {},
   "source": [
    "### Load Study Vectors"
   ]
  },
  {
   "cell_type": "code",
   "execution_count": 14,
   "metadata": {
    "collapsed": false
   },
   "outputs": [],
   "source": [
    "X = pickle.load(open('../store/study_vecs/{}/{}.p'.format(exp_group, exp_id))).astype('float64')"
   ]
  },
  {
   "cell_type": "markdown",
   "metadata": {},
   "source": [
    "### Load Corresponding `CDNO`s"
   ]
  },
  {
   "cell_type": "code",
   "execution_count": 15,
   "metadata": {
    "collapsed": false
   },
   "outputs": [],
   "source": [
    "from trainer import Trainer\n",
    "\n",
    "trainer = Trainer(exp_group, exp_id, hyperparam_dict={})\n",
    "trainer.load_texts(inputs=['abstracts', 'outcomes'])\n",
    "\n",
    "from sklearn.cross_validation import KFold\n",
    "\n",
    "train_idxs, _ = next(iter(KFold(trainer.nb_train, n_folds=5, shuffle=True, random_state=1337)))\n",
    "train_idxs = train_idxs[:100]\n",
    "\n",
    "df = pd.read_csv('../../preprocess/study_inclusion.csv', index_col=0).ix[train_idxs]\n",
    "cdnos = df.cdno.astype('category').cat.codes"
   ]
  },
  {
   "cell_type": "markdown",
   "metadata": {},
   "source": [
    "Because a t-sne plot with this many reviews is too busy, we only keep studies which belong to the $k$ reviews with the largest number of studies."
   ]
  },
  {
   "cell_type": "code",
   "execution_count": 16,
   "metadata": {
    "collapsed": false
   },
   "outputs": [
    {
     "data": {
      "text/plain": [
       "{2, 5}"
      ]
     },
     "execution_count": 16,
     "metadata": {},
     "output_type": "execute_result"
    }
   ],
   "source": [
    "K = 2\n",
    "\n",
    "top_cdnos = set(cdnos.value_counts().sort_values(ascending=False)[:K].index)\n",
    "top_cdnos"
   ]
  },
  {
   "cell_type": "markdown",
   "metadata": {},
   "source": [
    "Throw away studies which are not in the top $k$ reviews..."
   ]
  },
  {
   "cell_type": "code",
   "execution_count": 17,
   "metadata": {
    "collapsed": false
   },
   "outputs": [],
   "source": [
    "study_idxs = np.array(cdnos[cdnos.map(lambda cdno: cdno in top_cdnos)].index)\n",
    "\n",
    "X = X[study_idxs]"
   ]
  },
  {
   "cell_type": "markdown",
   "metadata": {},
   "source": [
    "### t-sne plot"
   ]
  },
  {
   "cell_type": "code",
   "execution_count": null,
   "metadata": {
    "collapsed": false
   },
   "outputs": [],
   "source": [
    "from tsne import bh_sne\n",
    "\n",
    "X = bh_sne(X)\n",
    "\n",
    "cmap = {i: color for i, color in enumerate(['red', 'blue'])}\n",
    "plt.scatter(x=X[:, 0], y=X[:, 1], c=cdnos[study_idxs].map(cmap))"
   ]
  }
 ],
 "metadata": {
  "kernelspec": {
   "display_name": "Python 2",
   "language": "python",
   "name": "python2"
  },
  "language_info": {
   "codemirror_mode": {
    "name": "ipython",
    "version": 2
   },
   "file_extension": ".py",
   "mimetype": "text/x-python",
   "name": "python",
   "nbconvert_exporter": "python",
   "pygments_lexer": "ipython2",
   "version": "2.7.12"
  }
 },
 "nbformat": 4,
 "nbformat_minor": 0
}
