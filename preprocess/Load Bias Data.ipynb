{
 "cells": [
  {
   "cell_type": "code",
   "execution_count": 1,
   "metadata": {
    "collapsed": true
   },
   "outputs": [],
   "source": [
    "df = pd.read_csv('train-Xy-w-sentences2-Random-sequence-generation.txt')"
   ]
  },
  {
   "cell_type": "markdown",
   "metadata": {},
   "source": [
    "Only get a few documents..."
   ]
  },
  {
   "cell_type": "code",
   "execution_count": 14,
   "metadata": {
    "collapsed": false
   },
   "outputs": [
    {
     "name": "stdout",
     "output_type": "stream",
     "text": [
      "<class 'pandas.core.frame.DataFrame'>\n",
      "Int64Index: 1026 entries, 76915 to 2045070\n",
      "Data columns (total 5 columns):\n",
      "doc_id             1026 non-null int64\n",
      "doc_lbl            1026 non-null int64\n",
      "sentence_number    1026 non-null int64\n",
      "sentence           1026 non-null object\n",
      "sentence_lbl       1026 non-null int64\n",
      "dtypes: int64(4), object(1)\n",
      "memory usage: 48.1+ KB\n"
     ]
    }
   ],
   "source": [
    "doc_ids = set(name for name, group in list(df.groupby('doc_id'))[:5])\n",
    "\n",
    "df = df[df.doc_id.map(lambda d: d in doc_ids)]\n",
    "\n",
    "df.info()"
   ]
  },
  {
   "cell_type": "markdown",
   "metadata": {},
   "source": [
    "### Tokenize Documents"
   ]
  },
  {
   "cell_type": "code",
   "execution_count": 20,
   "metadata": {
    "collapsed": true
   },
   "outputs": [],
   "source": [
    "from vectorizer import Vectorizer\n",
    "\n",
    "vectorizer = Vectorizer()\n",
    "vectorizer.fit(df.sentence)\n",
    "vectorizer.texts_to_sequences(df.sentence)"
   ]
  }
 ],
 "metadata": {
  "kernelspec": {
   "display_name": "Python 2",
   "language": "python",
   "name": "python2"
  },
  "language_info": {
   "codemirror_mode": {
    "name": "ipython",
    "version": 2
   },
   "file_extension": ".py",
   "mimetype": "text/x-python",
   "name": "python",
   "nbconvert_exporter": "python",
   "pygments_lexer": "ipython2",
   "version": "2.7.12"
  }
 },
 "nbformat": 4,
 "nbformat_minor": 0
}
