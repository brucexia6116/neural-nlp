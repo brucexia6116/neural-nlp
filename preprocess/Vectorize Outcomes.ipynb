{
 "cells": [
  {
   "cell_type": "markdown",
   "metadata": {},
   "source": [
    "# Vectorize Outcomes\n",
    "\n",
    "Just focus on outcomes for now..."
   ]
  },
  {
   "cell_type": "code",
   "execution_count": 10,
   "metadata": {
    "collapsed": false
   },
   "outputs": [
    {
     "name": "stdout",
     "output_type": "stream",
     "text": [
      "<class 'pandas.core.frame.DataFrame'>\n",
      "RangeIndex: 20 entries, 0 to 19\n",
      "Data columns (total 9 columns):\n",
      "title           20 non-null object\n",
      "pmid            20 non-null int64\n",
      "cdno            20 non-null object\n",
      "population      20 non-null object\n",
      "intervention    20 non-null object\n",
      "outcome         20 non-null object\n",
      "method          20 non-null object\n",
      "type            20 non-null object\n",
      "abstract        20 non-null object\n",
      "dtypes: int64(1), object(8)\n",
      "memory usage: 1.5+ KB\n"
     ]
    }
   ],
   "source": [
    "df = pd.read_csv('pico_cdsr.csv')\n",
    "df = df[df.abstract.notnull() & df.outcome.notnull()].reset_index(drop=True)\n",
    "df = df.ix[:19] # mini training set\n",
    "\n",
    "df.info()"
   ]
  },
  {
   "cell_type": "markdown",
   "metadata": {},
   "source": [
    "### Sample Outcomes"
   ]
  },
  {
   "cell_type": "code",
   "execution_count": 11,
   "metadata": {
    "collapsed": false,
    "scrolled": true
   },
   "outputs": [
    {
     "name": "stdout",
     "output_type": "stream",
     "text": [
      "\n",
      "****************************************************************************************************\n",
      "\n",
      "Mean (SD) number of wet nights per week: A:3.3 (1.9), B:4.7 (1.7), C:3.3 (2.5) Number attaining cure: A:3, B:1, C:5 7 out of 8 children who were cured relapsed. The exception was treated with amitriptyline and DDAVP Follow up: mean (SD) number of wet nights per week: A:(n=10) 3.9 (2.9), B:(n=5) 3.8 (1.9), C:(n=8) 5.1 (3.2) Side effects: none reported Most parents said all the drugs were easy to use\n",
      "\n",
      "****************************************************************************************************\n",
      "\n",
      "Number not achieving 14 dry nights after 6 months: A: 26/61; B: 31/60; C: 38/61 All children improved psychologically, e.g. behaviour and self concept, regardless of outcome or treatment assignment Side effects: not mentioned\n",
      "\n",
      "****************************************************************************************************\n",
      "\n",
      "Mean % (SD) number of wet nights during combined periods: A:30.9 (28.7), B:57.5 (26.1) Only 1 child remained dry during follow up period Side effects: none reported\n",
      "\n",
      "****************************************************************************************************\n",
      "\n",
      "Wet nights during trial (number, mean, SD): A: 10, 1.8 (SD 1.4); B: 10, 4.1 (1.5) Side effects: headache (5); abdominal pain (6); nausea and vertigo (1) All resolved while treatment continued\n",
      "\n",
      "****************************************************************************************************\n",
      "\n",
      "Number not achieving 14 dry nights after 6 months: A: 26/61; B: 31/60; C: 38/61 All children improved psychologically, e.g. behaviour and self concept, regardless of outcome or treatment assignment Side effects: not mentioned\n",
      "\n",
      "****************************************************************************************************\n",
      "\n",
      "Mean number of wet nights in final 14 days: 2A:10.0, 2B:8.1, 2C:10.5 Active treatment significantly better than placebo except A versus C not significant 2 week follow up: mean number of wet nights per 14: 2A:10.8, 2B:11.4, 2C:11.3 Side effects: no serious adverse events (11 minor)\n",
      "\n",
      "****************************************************************************************************\n",
      "\n",
      "Wet nights at end of trial (N, mean, SD): A: 70, 3.0 (2.0); B: 75, 3.3 (2.2); C: 76, 4.5 (2.0) Number not achieving 14 dry nights: A: 48/70; B: 63/75; C: 45/76 Number failing or relapsing: A: 66/70; B: 69/75; 73/76 Wet nights after end of trial (N, mean, SD): A: 70, 2.6 (1.7); B: 74, 3.0 (2.0); C: 76, 4.7 (1.8) Side effects: nasal itch: A 5, B 1, C 4 7 dropouts due to problems with behavioural treatment schedule\n",
      "\n",
      "****************************************************************************************************\n",
      "\n",
      "Wet nights during trial (number, mean, SD): A: 10, 1.8 (SD 1.4); B: 10, 4.1 (1.5) Side effects: headache (5); abdominal pain (6); nausea and vertigo (1) All resolved while treatment continued\n",
      "\n",
      "****************************************************************************************************\n",
      "\n",
      "Mean (SE) dry nights during treatment: A: 5.1 (0.4) B: 4.1 (0.4)  6 week follow up: 14 dry, 5 relapsed 4.5 month follow up: 9 remained dry Side effects: none reported Mean urine osmolality significantly increased from baseline Significantly higher urine osmolality with DDAVP than placebo Steady significant increase in body weight\n",
      "\n",
      "****************************************************************************************************\n",
      "\n",
      "Wet nights at end of trial (N, mean, SD): A: 70, 3.0 (2.0); B: 75, 3.3 (2.2); C: 76, 4.5 (2.0) Number not achieving 14 dry nights: A: 48/70; B: 63/75; C: 45/76 Number failing or relapsing: A: 66/70; B: 69/75; 73/76 Wet nights after end of trial (N, mean, SD): A: 70, 2.6 (1.7); B: 74, 3.0 (2.0); C: 76, 4.7 (1.8) Side effects: nasal itch: A 5, B 1, C 4 7 dropouts due to problems with behavioural treatment schedule\n"
     ]
    }
   ],
   "source": [
    "def sample_outcomes(k=10):\n",
    "    for outcome in np.random.choice(df.outcome, size=k):\n",
    "        print\n",
    "        print '*'*100\n",
    "        print\n",
    "        print outcome\n",
    "        \n",
    "sample_outcomes()"
   ]
  },
  {
   "cell_type": "markdown",
   "metadata": {},
   "source": [
    "### Preprocess Outcomes\n",
    "\n",
    "- Tokenize into words with nltk\n",
    "- Remove numbers\n",
    "- Remove stopwords\n",
    "- Remove punctuation"
   ]
  },
  {
   "cell_type": "code",
   "execution_count": 12,
   "metadata": {
    "collapsed": false
   },
   "outputs": [
    {
     "data": {
      "text/plain": [
       "20"
      ]
     },
     "execution_count": 12,
     "metadata": {},
     "output_type": "execute_result"
    }
   ],
   "source": [
    "import string\n",
    "\n",
    "from nltk import word_tokenize\n",
    "from nltk.corpus import stopwords\n",
    "\n",
    "stopwords = set(stopwords.words('english'))\n",
    "\n",
    "df.outcome = df.outcome.map(lambda s: ' '.join(word_tokenize(s)).lower()) # basic tokenization\n",
    "df.outcome = df.outcome.map(lambda s: ' '.join(word for word in s.split() if not any(char.isdigit() for char in word))) # numbers\n",
    "df.outcome = df.outcome.map(lambda s: ' '.join(word for word in s.split() if word not in stopwords))\n",
    "df.outcome = df.outcome.map(lambda s: ' '.join(''.join(char for char in word if char not in string.punctuation) for word in s.split())) # delete punctuation\n",
    "df.outcome = df.outcome.map(lambda s: ' '.join(word for word in s.split())) # remove whitespace in between words\n",
    "\n",
    "len(df)"
   ]
  },
  {
   "cell_type": "markdown",
   "metadata": {},
   "source": [
    "### Narrow Down Output Space to Most Common K Words"
   ]
  },
  {
   "cell_type": "code",
   "execution_count": 13,
   "metadata": {
    "collapsed": false,
    "scrolled": true
   },
   "outputs": [
    {
     "name": "stdout",
     "output_type": "stream",
     "text": [
      "\n",
      "****************************************************************************************************\n",
      "\n",
      "mean sd number wet nights dry follow side effects none reported\n",
      "\n",
      "****************************************************************************************************\n",
      "\n",
      "mean sd number wet nights number dry number wet nights follow children dry side effects none reported\n",
      "\n",
      "****************************************************************************************************\n",
      "\n",
      "wet nights trial mean sd b c number achieving dry nights b c number b wet nights trial mean sd b c side effects b c treatment\n",
      "\n",
      "****************************************************************************************************\n",
      "\n",
      "mean sd number wet nights dry follow side effects none reported\n",
      "\n",
      "****************************************************************************************************\n",
      "\n",
      "mean sd number wet nights per week number children follow mean sd number wet nights per week b c side effects none reported\n",
      "\n",
      "****************************************************************************************************\n",
      "\n",
      "mean sd number wet nights dry follow side effects none reported\n",
      "\n",
      "****************************************************************************************************\n",
      "\n",
      "wet nights trial mean sd b c achieving dry nights b c wet nights trial mean sd b c achieving dry nights b c effects none children dry\n",
      "\n",
      "****************************************************************************************************\n",
      "\n",
      "mean wet nights per week b side effects\n",
      "\n",
      "****************************************************************************************************\n",
      "\n",
      "wet nights number mean weeks b weeks b number weeks trial b number trial b b wet nights number mean b none\n",
      "\n",
      "****************************************************************************************************\n",
      "\n",
      "wet nights trial mean sd b c achieving dry nights b c wet nights trial mean sd b c achieving dry nights b c effects none children dry\n"
     ]
    }
   ],
   "source": [
    "from vectorizer import Vectorizer\n",
    "\n",
    "vectorizer = Vectorizer()\n",
    "vectorizer.fit(df.outcome)\n",
    "\n",
    "dff = pd.DataFrame({word: [count] for word, count in vectorizer.tok.word_counts.items()}).T\n",
    "dff.columns = ['counts']\n",
    "\n",
    "K = 20\n",
    "# K = 5000\n",
    "target_words = set(dff.counts.sort_values(ascending=False)[:K].index)\n",
    "\n",
    "df.outcome = df.outcome.map(lambda s: ' '.join(word for word in s.split() if word in target_words))\n",
    "\n",
    "sample_outcomes()"
   ]
  },
  {
   "cell_type": "markdown",
   "metadata": {},
   "source": [
    "### Convert Outcomes to BoW"
   ]
  },
  {
   "cell_type": "code",
   "execution_count": 14,
   "metadata": {
    "collapsed": true
   },
   "outputs": [],
   "source": [
    "from vectorizer import Vectorizer\n",
    "\n",
    "vectorizer = Vectorizer()\n",
    "\n",
    "vectorizer.fit(df.outcome)\n",
    "vectorizer.texts_to_BoW(df.outcome)\n",
    "\n",
    "pickle.dump(vectorizer, open('outcomes-mini.p', 'w'))"
   ]
  }
 ],
 "metadata": {
  "kernelspec": {
   "display_name": "Python 2",
   "language": "python",
   "name": "python2"
  },
  "language_info": {
   "codemirror_mode": {
    "name": "ipython",
    "version": 2
   },
   "file_extension": ".py",
   "mimetype": "text/x-python",
   "name": "python",
   "nbconvert_exporter": "python",
   "pygments_lexer": "ipython2",
   "version": "2.7.12"
  }
 },
 "nbformat": 4,
 "nbformat_minor": 0
}
