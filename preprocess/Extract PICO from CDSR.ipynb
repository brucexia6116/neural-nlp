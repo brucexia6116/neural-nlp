{
 "cells": [
  {
   "cell_type": "markdown",
   "metadata": {},
   "source": [
    "# CDSR BiViewer\n",
    "\n",
    "Extract the abstracts as well as their PICO fields to see if we can train good PICO vectors."
   ]
  },
  {
   "cell_type": "code",
   "execution_count": 1,
   "metadata": {
    "collapsed": false
   },
   "outputs": [],
   "source": [
    "from cochranenlp.readers import biviewer\n",
    "\n",
    "biviewer = biviewer.BiViewer()"
   ]
  },
  {
   "cell_type": "markdown",
   "metadata": {},
   "source": [
    "### Extract PI[C]O and Abstracts\n",
    "\n",
    "Comparator seems to be contained within Intervention. It will be tough to separate them..."
   ]
  },
  {
   "cell_type": "code",
   "execution_count": 2,
   "metadata": {
    "collapsed": false,
    "scrolled": true
   },
   "outputs": [
    {
     "name": "stdout",
     "output_type": "stream",
     "text": [
      "CPU times: user 3min 16s, sys: 9.92 s, total: 3min 26s\n",
      "Wall time: 3min 49s\n"
     ]
    }
   ],
   "source": [
    "%%time\n",
    "\n",
    "def gen_pio(biviwer):\n",
    "    for i, study in enumerate(biviewer):\n",
    "        c, p = study.cochrane, study.pubmed\n",
    "        cc = c['CHARACTERISTICS']\n",
    "\n",
    "        yield p['title'], \\\n",
    "              p['pmid'], \\\n",
    "              c['CDNO'], \\\n",
    "              cc['CHAR_PARTICIPANTS'], \\\n",
    "              cc['CHAR_INTERVENTIONS'], \\\n",
    "              cc['CHAR_OUTCOMES'], \\\n",
    "              cc['CHAR_METHODS'], \\\n",
    "              c['TYPE'], \\\n",
    "              p['abstract']\n",
    "        \n",
    "data = list(gen_pio(biviewer))\n",
    "\n",
    "df = pd.DataFrame(zip(*data)).T\n",
    "df.columns = ['title', 'pmid', 'cdno', 'population', 'intervention', 'outcome', 'method', 'type', 'abstract']\n",
    "for column in df.columns:\n",
    "    df[column] = df[column].map(lambda s: ''.join(x if ord(x) < 128 else '' for x in s) if s else '') # drop non-ascii characters\n",
    "\n",
    "df.to_csv('pico_cdsr.csv', index=False)\n",
    "\n",
    "df"
   ]
  }
 ],
 "metadata": {
  "kernelspec": {
   "display_name": "Python 2",
   "language": "python",
   "name": "python2"
  },
  "language_info": {
   "codemirror_mode": {
    "name": "ipython",
    "version": 2
   },
   "file_extension": ".py",
   "mimetype": "text/x-python",
   "name": "python",
   "nbconvert_exporter": "python",
   "pygments_lexer": "ipython2",
   "version": "2.7.12"
  }
 },
 "nbformat": 4,
 "nbformat_minor": 0
}
