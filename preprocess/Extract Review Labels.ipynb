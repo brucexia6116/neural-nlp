{
 "cells": [
  {
   "cell_type": "markdown",
   "metadata": {},
   "source": [
    "# Extract Review Labels\n",
    "\n",
    "Extract `(abstract, study-id)` tuples."
   ]
  },
  {
   "cell_type": "code",
   "execution_count": 1,
   "metadata": {
    "collapsed": false
   },
   "outputs": [
    {
     "name": "stdout",
     "output_type": "stream",
     "text": [
      "<class 'pandas.core.frame.DataFrame'>\n",
      "RangeIndex: 46531 entries, 0 to 46530\n",
      "Data columns (total 2 columns):\n",
      "abstract    46531 non-null object\n",
      "cdno        46531 non-null object\n",
      "dtypes: object(2)\n",
      "memory usage: 727.1+ KB\n"
     ]
    }
   ],
   "source": [
    "df = pd.read_csv('pico_cdsr.csv')\n",
    "df = df[df.abstract.notnull() & df.population.notnull() & df.intervention.notnull() & df.outcome.notnull()].reset_index(drop=True)\n",
    "df = df[['abstract', 'cdno']]\n",
    "\n",
    "df.info()"
   ]
  },
  {
   "cell_type": "markdown",
   "metadata": {},
   "source": [
    "### Visualize `cdno` Distribution"
   ]
  },
  {
   "cell_type": "code",
   "execution_count": 2,
   "metadata": {
    "collapsed": false
   },
   "outputs": [
    {
     "data": {
      "text/plain": [
       "4611"
      ]
     },
     "execution_count": 2,
     "metadata": {},
     "output_type": "execute_result"
    }
   ],
   "source": [
    "cdnos = df.groupby('cdno')\n",
    "\n",
    "len(cdnos)"
   ]
  },
  {
   "cell_type": "markdown",
   "metadata": {},
   "source": [
    "Most reviews have only a small number of studies..."
   ]
  },
  {
   "cell_type": "code",
   "execution_count": 59,
   "metadata": {
    "collapsed": false,
    "scrolled": true
   },
   "outputs": [
    {
     "data": {
      "text/plain": [
       "<matplotlib.lines.Line2D at 0x10f0331d0>"
      ]
     },
     "execution_count": 59,
     "metadata": {},
     "output_type": "execute_result"
    },
    {
     "data": {
      "image/png": "[encoded data removed]",
      "text/plain": [
       "<matplotlib.figure.Figure at 0x10cf6e790>"
      ]
     },
     "metadata": {},
     "output_type": "display_data"
    }
   ],
   "source": [
    "info = cdnos.size().describe(percentiles=np.linspace(start=0, stop=1, num=101))\n",
    "\n",
    "axes = info['0%':].plot()\n",
    "axes.axhline(y=60)"
   ]
  },
  {
   "cell_type": "code",
   "execution_count": 105,
   "metadata": {
    "collapsed": false,
    "scrolled": true
   },
   "outputs": [
    {
     "data": {
      "text/plain": [
       "count    4611.000000\n",
       "mean       10.091303\n",
       "std        15.635355\n",
       "min         1.000000\n",
       "0%          1.000000\n",
       "1%          1.000000\n",
       "2%          1.000000\n",
       "3%          1.000000\n",
       "4%          1.000000\n",
       "5%          1.000000\n",
       "6%          1.000000\n",
       "7.0%        1.000000\n",
       "8%          1.000000\n",
       "9%          1.000000\n",
       "10%         1.000000\n",
       "11%         1.000000\n",
       "12%         1.000000\n",
       "13%         2.000000\n",
       "14.0%       2.000000\n",
       "15%         2.000000\n",
       "16%         2.000000\n",
       "17%         2.000000\n",
       "18%         2.000000\n",
       "19%         2.000000\n",
       "20%         2.000000\n",
       "21%         2.000000\n",
       "22%         2.000000\n",
       "23%         3.000000\n",
       "24%         3.000000\n",
       "25%         3.000000\n",
       "            ...     \n",
       "72%        11.000000\n",
       "73%        11.000000\n",
       "74%        12.000000\n",
       "75%        12.000000\n",
       "76%        12.000000\n",
       "77%        13.000000\n",
       "78%        13.000000\n",
       "79%        14.000000\n",
       "80%        14.000000\n",
       "81%        15.000000\n",
       "82%        15.000000\n",
       "83%        16.000000\n",
       "84%        17.000000\n",
       "85%        17.000000\n",
       "86%        18.000000\n",
       "87%        19.000000\n",
       "88%        20.000000\n",
       "89%        21.000000\n",
       "90%        23.000000\n",
       "91%        24.000000\n",
       "92%        26.000000\n",
       "93%        28.000000\n",
       "94%        31.000000\n",
       "95%        33.000000\n",
       "96%        37.000000\n",
       "97%        42.000000\n",
       "98%        48.000000\n",
       "99%        59.000000\n",
       "100%      513.000000\n",
       "max       513.000000\n",
       "dtype: float64"
      ]
     },
     "execution_count": 105,
     "metadata": {},
     "output_type": "execute_result"
    }
   ],
   "source": [
    "info"
   ]
  },
  {
   "cell_type": "markdown",
   "metadata": {},
   "source": [
    "The number of studies greater than a certain number drops off exponentially..."
   ]
  },
  {
   "cell_type": "code",
   "execution_count": 50,
   "metadata": {
    "collapsed": false
   },
   "outputs": [
    {
     "data": {
      "text/plain": [
       "<matplotlib.text.Text at 0x10d4e1ad0>"
      ]
     },
     "execution_count": 50,
     "metadata": {},
     "output_type": "execute_result"
    },
    {
     "data": {
      "image/png": "[encoded data removed]",
      "text/plain": [
       "<matplotlib.figure.Figure at 0x10d6c2e50>"
      ]
     },
     "metadata": {},
     "output_type": "display_data"
    }
   ],
   "source": [
    "nb_review = len(cdnos)\n",
    "\n",
    "s = pd.Series(len(cdnos.size()[cdnos.size() > i]) / float(len(cdnos)) for i in range(50))\n",
    "s.name = 'foo'\n",
    "s.index.name = '$x$'\n",
    "\n",
    "axes = s.plot()\n",
    "plt.ylabel('percentage of reviews with more than $x$ studies')"
   ]
  },
  {
   "cell_type": "markdown",
   "metadata": {},
   "source": [
    "Here's a good view of how many reviews there are having a certain amount of studies. We can see that reviews having at least 25 studies are usually in the single digits."
   ]
  },
  {
   "cell_type": "code",
   "execution_count": 174,
   "metadata": {
    "collapsed": false,
    "scrolled": true
   },
   "outputs": [
    {
     "data": {
      "text/plain": [
       "<matplotlib.text.Text at 0x11e136e90>"
      ]
     },
     "execution_count": 174,
     "metadata": {},
     "output_type": "execute_result"
    },
    {
     "data": {
      "image/png": "[encoded data removed]",
      "text/plain": [
       "<matplotlib.figure.Figure at 0x11e2355d0>"
      ]
     },
     "metadata": {},
     "output_type": "display_data"
    }
   ],
   "source": [
    "axes = cdnos.size().value_counts().sort_index().plot(kind='bar')\n",
    "\n",
    "locs, labels = plt.xticks()\n",
    "\n",
    "new_labels = ['']*len(labels)\n",
    "for i in range(0, len(labels), 10):\n",
    "    new_labels[i] = labels[i].get_text()\n",
    "    \n",
    "plt.xticks(locs, new_labels)\n",
    "axes.set_xlabel('number of studies')\n",
    "axes.set_ylabel('count')"
   ]
  },
  {
   "cell_type": "markdown",
   "metadata": {},
   "source": [
    "Since there are over 100 reviews with 10 studies, let's collect all the reviews with exactly 10 studies. This will net us over 1000 studies, a sizeable amount for our test set."
   ]
  },
  {
   "cell_type": "code",
   "execution_count": 184,
   "metadata": {
    "collapsed": false
   },
   "outputs": [],
   "source": [
    "cdno_set = set(cdnos.size()[cdnos.size() == 10].index)"
   ]
  },
  {
   "cell_type": "markdown",
   "metadata": {},
   "source": [
    "In filtering down the studies, we want to keep the original indices of the studies so we can look them up in the full dataframe."
   ]
  },
  {
   "cell_type": "code",
   "execution_count": 190,
   "metadata": {
    "collapsed": false
   },
   "outputs": [],
   "source": [
    "test_df = df[df.cdno.map(lambda cdno: cdno in cdno_set)]\n",
    "\n",
    "test_df.to_csv('study_inclusion.csv')"
   ]
  }
 ],
 "metadata": {
  "kernelspec": {
   "display_name": "Python 2",
   "language": "python",
   "name": "python2"
  },
  "language_info": {
   "codemirror_mode": {
    "name": "ipython",
    "version": 2
   },
   "file_extension": ".py",
   "mimetype": "text/x-python",
   "name": "python",
   "nbconvert_exporter": "python",
   "pygments_lexer": "ipython2",
   "version": "2.7.12"
  }
 },
 "nbformat": 4,
 "nbformat_minor": 0
}
